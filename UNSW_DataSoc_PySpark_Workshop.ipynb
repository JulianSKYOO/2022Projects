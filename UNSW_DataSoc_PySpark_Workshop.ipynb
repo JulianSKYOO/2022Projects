{
  "nbformat": 4,
  "nbformat_minor": 0,
  "metadata": {
    "colab": {
      "provenance": [],
      "include_colab_link": true
    },
    "kernelspec": {
      "name": "python3",
      "display_name": "Python 3"
    },
    "language_info": {
      "name": "python"
    }
  },
  "cells": [
    {
      "cell_type": "markdown",
      "metadata": {
        "id": "view-in-github",
        "colab_type": "text"
      },
      "source": [
        "<a href=\"https://colab.research.google.com/github/JulianSKYOO/tmp/blob/main/UNSW_DataSoc_PySpark_Workshop.ipynb\" target=\"_parent\"><img src=\"https://colab.research.google.com/assets/colab-badge.svg\" alt=\"Open In Colab\"/></a>"
      ]
    },
    {
      "cell_type": "markdown",
      "source": [
        "# **PySpark Workshop 2022**\n",
        "\n",
        "Created by UNSW DataSoc"
      ],
      "metadata": {
        "id": "OFKPodnOSqj9"
      }
    },
    {
      "cell_type": "markdown",
      "source": [
        "## Installing PySpark"
      ],
      "metadata": {
        "id": "oireac5cFBji"
      }
    },
    {
      "cell_type": "code",
      "source": [
        "!pip3 uninstall pyspark\n",
        "!pip3 install pyspark==3.0.2"
      ],
      "metadata": {
        "id": "bMFW5dVwhG3a",
        "colab": {
          "base_uri": "https://localhost:8080/"
        },
        "outputId": "1fd39588-db4c-4571-cbfb-696f8da99e40",
        "collapsed": true
      },
      "execution_count": null,
      "outputs": [
        {
          "output_type": "stream",
          "name": "stdout",
          "text": [
            "\u001b[33mWARNING: Skipping pyspark as it is not installed.\u001b[0m\n",
            "Looking in indexes: https://pypi.org/simple, https://us-python.pkg.dev/colab-wheels/public/simple/\n",
            "Collecting pyspark==3.0.2\n",
            "  Downloading pyspark-3.0.2.tar.gz (204.8 MB)\n",
            "\u001b[K     |████████████████████████████████| 204.8 MB 48 kB/s \n",
            "\u001b[?25hCollecting py4j==0.10.9\n",
            "  Downloading py4j-0.10.9-py2.py3-none-any.whl (198 kB)\n",
            "\u001b[K     |████████████████████████████████| 198 kB 55.0 MB/s \n",
            "\u001b[?25hBuilding wheels for collected packages: pyspark\n",
            "  Building wheel for pyspark (setup.py) ... \u001b[?25l\u001b[?25hdone\n",
            "  Created wheel for pyspark: filename=pyspark-3.0.2-py2.py3-none-any.whl size=205186690 sha256=a677bee1f9e961361ac1afa0b8f117d160a7d85a73f73ccfa8f30eeedc1de687\n",
            "  Stored in directory: /root/.cache/pip/wheels/9a/39/f6/970565f38054a830e9a8593f388b36e14d75dba6c6fdafc1ec\n",
            "Successfully built pyspark\n",
            "Installing collected packages: py4j, pyspark\n",
            "Successfully installed py4j-0.10.9 pyspark-3.0.2\n"
          ]
        }
      ]
    },
    {
      "cell_type": "markdown",
      "source": [
        "## Neccessary Imports"
      ],
      "metadata": {
        "id": "c0AgS2UTFFGV"
      }
    },
    {
      "cell_type": "code",
      "source": [
        "# Run these two lines to ensure that we have all the packaghes and classes to write PySpark code\n",
        "import pyspark\n",
        "from pyspark.sql import SparkSession\n",
        "import pandas as pd"
      ],
      "metadata": {
        "id": "mbrpHnGEle_J"
      },
      "execution_count": null,
      "outputs": []
    },
    {
      "cell_type": "markdown",
      "source": [
        "## Get Spark Up & Running\n",
        "\n",
        "The entry point into all functionality in Spark is the SparkSession class. To create a basic SparkSession, just use SparkSession.builder:"
      ],
      "metadata": {
        "id": "4dSVBklxFNR4"
      }
    },
    {
      "cell_type": "code",
      "source": [
        "# Sets a name for the application, which will be shown in the Spark web UI.\n",
        "# If no application name is set, a randomly generated name will be used.\n",
        "\n",
        "spark = SparkSession.builder.appName('practice').getOrCreate()"
      ],
      "metadata": {
        "id": "bwlwu1a1hHRs"
      },
      "execution_count": null,
      "outputs": []
    },
    {
      "cell_type": "code",
      "source": [
        "# Print this variable to the screen\n",
        "# Tells us versions and ther name of the app (which we specified above)\n",
        "spark"
      ],
      "metadata": {
        "id": "Ax6KxNTphHT-",
        "colab": {
          "base_uri": "https://localhost:8080/",
          "height": 221
        },
        "outputId": "7642c7f8-d100-430a-f3bc-0b7ea019a12e"
      },
      "execution_count": null,
      "outputs": [
        {
          "output_type": "execute_result",
          "data": {
            "text/plain": [
              "<pyspark.sql.session.SparkSession at 0x7f9582c70390>"
            ],
            "text/html": [
              "\n",
              "            <div>\n",
              "                <p><b>SparkSession - in-memory</b></p>\n",
              "                \n",
              "        <div>\n",
              "            <p><b>SparkContext</b></p>\n",
              "\n",
              "            <p><a href=\"http://cf3b17438e5d:4040\">Spark UI</a></p>\n",
              "\n",
              "            <dl>\n",
              "              <dt>Version</dt>\n",
              "                <dd><code>v3.0.2</code></dd>\n",
              "              <dt>Master</dt>\n",
              "                <dd><code>local[*]</code></dd>\n",
              "              <dt>AppName</dt>\n",
              "                <dd><code>practice</code></dd>\n",
              "            </dl>\n",
              "        </div>\n",
              "        \n",
              "            </div>\n",
              "        "
            ]
          },
          "metadata": {},
          "execution_count": 4
        }
      ]
    },
    {
      "cell_type": "markdown",
      "source": [
        "*italicized text*## Read in CSV file\n",
        "\n",
        "We've got a csv file here, but often querying a database is how the data is gathered"
      ],
      "metadata": {
        "id": "04gMmN2cTQIE"
      }
    },
    {
      "cell_type": "code",
      "source": [
        "df = pd.read_csv(\"https://raw.githubusercontent.com/UNSW-Data-Science-Society/Pyspark-Workshop/main/churn_data.csv\")\n",
        "df"
      ],
      "metadata": {
        "id": "Tt8t83-uy89f",
        "colab": {
          "base_uri": "https://localhost:8080/",
          "height": 424
        },
        "outputId": "430aa09c-e3e7-45fd-8207-b7963173203d"
      },
      "execution_count": null,
      "outputs": [
        {
          "output_type": "execute_result",
          "data": {
            "text/plain": [
              "      CreditScore Geography  Gender  Age  Tenure    Balance  NumOfProducts  \\\n",
              "0             619    France  Female   42       2       0.00              1   \n",
              "1             502    France  Female   42       8  159660.80              3   \n",
              "2             645     Spain    Male   44       8  113755.78              2   \n",
              "3             376   Germany  Female   29       4  115046.74              4   \n",
              "4             653   Germany    Male   58       1  132602.88              1   \n",
              "...           ...       ...     ...  ...     ...        ...            ...   \n",
              "4995          771    France    Male   39       5       0.00              2   \n",
              "4996          516    France    Male   35      10   57369.61              1   \n",
              "4997          709    France  Female   36       7       0.00              1   \n",
              "4998          772   Germany    Male   42       3   75075.31              2   \n",
              "4999          792    France  Female   28       4  130142.79              1   \n",
              "\n",
              "      HasCrCard  IsActiveMember  EstimatedSalary  Exited  \n",
              "0             1               1        101348.88       1  \n",
              "1             1               0        113931.57       1  \n",
              "2             1               0        149756.71       1  \n",
              "3             1               0        119346.88       1  \n",
              "4             1               0          5097.67       1  \n",
              "...         ...             ...              ...     ...  \n",
              "4995          1               0         96270.64      -1  \n",
              "4996          1               1        101699.77      -1  \n",
              "4997          0               1         42085.58       1  \n",
              "4998          1               0         92888.52       1  \n",
              "4999          1               0         38190.78      -1  \n",
              "\n",
              "[5000 rows x 11 columns]"
            ],
            "text/html": [
              "\n",
              "  <div id=\"df-37fa66fb-3d65-430c-ba02-100c9c9bda0f\">\n",
              "    <div class=\"colab-df-container\">\n",
              "      <div>\n",
              "<style scoped>\n",
              "    .dataframe tbody tr th:only-of-type {\n",
              "        vertical-align: middle;\n",
              "    }\n",
              "\n",
              "    .dataframe tbody tr th {\n",
              "        vertical-align: top;\n",
              "    }\n",
              "\n",
              "    .dataframe thead th {\n",
              "        text-align: right;\n",
              "    }\n",
              "</style>\n",
              "<table border=\"1\" class=\"dataframe\">\n",
              "  <thead>\n",
              "    <tr style=\"text-align: right;\">\n",
              "      <th></th>\n",
              "      <th>CreditScore</th>\n",
              "      <th>Geography</th>\n",
              "      <th>Gender</th>\n",
              "      <th>Age</th>\n",
              "      <th>Tenure</th>\n",
              "      <th>Balance</th>\n",
              "      <th>NumOfProducts</th>\n",
              "      <th>HasCrCard</th>\n",
              "      <th>IsActiveMember</th>\n",
              "      <th>EstimatedSalary</th>\n",
              "      <th>Exited</th>\n",
              "    </tr>\n",
              "  </thead>\n",
              "  <tbody>\n",
              "    <tr>\n",
              "      <th>0</th>\n",
              "      <td>619</td>\n",
              "      <td>France</td>\n",
              "      <td>Female</td>\n",
              "      <td>42</td>\n",
              "      <td>2</td>\n",
              "      <td>0.00</td>\n",
              "      <td>1</td>\n",
              "      <td>1</td>\n",
              "      <td>1</td>\n",
              "      <td>101348.88</td>\n",
              "      <td>1</td>\n",
              "    </tr>\n",
              "    <tr>\n",
              "      <th>1</th>\n",
              "      <td>502</td>\n",
              "      <td>France</td>\n",
              "      <td>Female</td>\n",
              "      <td>42</td>\n",
              "      <td>8</td>\n",
              "      <td>159660.80</td>\n",
              "      <td>3</td>\n",
              "      <td>1</td>\n",
              "      <td>0</td>\n",
              "      <td>113931.57</td>\n",
              "      <td>1</td>\n",
              "    </tr>\n",
              "    <tr>\n",
              "      <th>2</th>\n",
              "      <td>645</td>\n",
              "      <td>Spain</td>\n",
              "      <td>Male</td>\n",
              "      <td>44</td>\n",
              "      <td>8</td>\n",
              "      <td>113755.78</td>\n",
              "      <td>2</td>\n",
              "      <td>1</td>\n",
              "      <td>0</td>\n",
              "      <td>149756.71</td>\n",
              "      <td>1</td>\n",
              "    </tr>\n",
              "    <tr>\n",
              "      <th>3</th>\n",
              "      <td>376</td>\n",
              "      <td>Germany</td>\n",
              "      <td>Female</td>\n",
              "      <td>29</td>\n",
              "      <td>4</td>\n",
              "      <td>115046.74</td>\n",
              "      <td>4</td>\n",
              "      <td>1</td>\n",
              "      <td>0</td>\n",
              "      <td>119346.88</td>\n",
              "      <td>1</td>\n",
              "    </tr>\n",
              "    <tr>\n",
              "      <th>4</th>\n",
              "      <td>653</td>\n",
              "      <td>Germany</td>\n",
              "      <td>Male</td>\n",
              "      <td>58</td>\n",
              "      <td>1</td>\n",
              "      <td>132602.88</td>\n",
              "      <td>1</td>\n",
              "      <td>1</td>\n",
              "      <td>0</td>\n",
              "      <td>5097.67</td>\n",
              "      <td>1</td>\n",
              "    </tr>\n",
              "    <tr>\n",
              "      <th>...</th>\n",
              "      <td>...</td>\n",
              "      <td>...</td>\n",
              "      <td>...</td>\n",
              "      <td>...</td>\n",
              "      <td>...</td>\n",
              "      <td>...</td>\n",
              "      <td>...</td>\n",
              "      <td>...</td>\n",
              "      <td>...</td>\n",
              "      <td>...</td>\n",
              "      <td>...</td>\n",
              "    </tr>\n",
              "    <tr>\n",
              "      <th>4995</th>\n",
              "      <td>771</td>\n",
              "      <td>France</td>\n",
              "      <td>Male</td>\n",
              "      <td>39</td>\n",
              "      <td>5</td>\n",
              "      <td>0.00</td>\n",
              "      <td>2</td>\n",
              "      <td>1</td>\n",
              "      <td>0</td>\n",
              "      <td>96270.64</td>\n",
              "      <td>-1</td>\n",
              "    </tr>\n",
              "    <tr>\n",
              "      <th>4996</th>\n",
              "      <td>516</td>\n",
              "      <td>France</td>\n",
              "      <td>Male</td>\n",
              "      <td>35</td>\n",
              "      <td>10</td>\n",
              "      <td>57369.61</td>\n",
              "      <td>1</td>\n",
              "      <td>1</td>\n",
              "      <td>1</td>\n",
              "      <td>101699.77</td>\n",
              "      <td>-1</td>\n",
              "    </tr>\n",
              "    <tr>\n",
              "      <th>4997</th>\n",
              "      <td>709</td>\n",
              "      <td>France</td>\n",
              "      <td>Female</td>\n",
              "      <td>36</td>\n",
              "      <td>7</td>\n",
              "      <td>0.00</td>\n",
              "      <td>1</td>\n",
              "      <td>0</td>\n",
              "      <td>1</td>\n",
              "      <td>42085.58</td>\n",
              "      <td>1</td>\n",
              "    </tr>\n",
              "    <tr>\n",
              "      <th>4998</th>\n",
              "      <td>772</td>\n",
              "      <td>Germany</td>\n",
              "      <td>Male</td>\n",
              "      <td>42</td>\n",
              "      <td>3</td>\n",
              "      <td>75075.31</td>\n",
              "      <td>2</td>\n",
              "      <td>1</td>\n",
              "      <td>0</td>\n",
              "      <td>92888.52</td>\n",
              "      <td>1</td>\n",
              "    </tr>\n",
              "    <tr>\n",
              "      <th>4999</th>\n",
              "      <td>792</td>\n",
              "      <td>France</td>\n",
              "      <td>Female</td>\n",
              "      <td>28</td>\n",
              "      <td>4</td>\n",
              "      <td>130142.79</td>\n",
              "      <td>1</td>\n",
              "      <td>1</td>\n",
              "      <td>0</td>\n",
              "      <td>38190.78</td>\n",
              "      <td>-1</td>\n",
              "    </tr>\n",
              "  </tbody>\n",
              "</table>\n",
              "<p>5000 rows × 11 columns</p>\n",
              "</div>\n",
              "      <button class=\"colab-df-convert\" onclick=\"convertToInteractive('df-37fa66fb-3d65-430c-ba02-100c9c9bda0f')\"\n",
              "              title=\"Convert this dataframe to an interactive table.\"\n",
              "              style=\"display:none;\">\n",
              "        \n",
              "  <svg xmlns=\"http://www.w3.org/2000/svg\" height=\"24px\"viewBox=\"0 0 24 24\"\n",
              "       width=\"24px\">\n",
              "    <path d=\"M0 0h24v24H0V0z\" fill=\"none\"/>\n",
              "    <path d=\"M18.56 5.44l.94 2.06.94-2.06 2.06-.94-2.06-.94-.94-2.06-.94 2.06-2.06.94zm-11 1L8.5 8.5l.94-2.06 2.06-.94-2.06-.94L8.5 2.5l-.94 2.06-2.06.94zm10 10l.94 2.06.94-2.06 2.06-.94-2.06-.94-.94-2.06-.94 2.06-2.06.94z\"/><path d=\"M17.41 7.96l-1.37-1.37c-.4-.4-.92-.59-1.43-.59-.52 0-1.04.2-1.43.59L10.3 9.45l-7.72 7.72c-.78.78-.78 2.05 0 2.83L4 21.41c.39.39.9.59 1.41.59.51 0 1.02-.2 1.41-.59l7.78-7.78 2.81-2.81c.8-.78.8-2.07 0-2.86zM5.41 20L4 18.59l7.72-7.72 1.47 1.35L5.41 20z\"/>\n",
              "  </svg>\n",
              "      </button>\n",
              "      \n",
              "  <style>\n",
              "    .colab-df-container {\n",
              "      display:flex;\n",
              "      flex-wrap:wrap;\n",
              "      gap: 12px;\n",
              "    }\n",
              "\n",
              "    .colab-df-convert {\n",
              "      background-color: #E8F0FE;\n",
              "      border: none;\n",
              "      border-radius: 50%;\n",
              "      cursor: pointer;\n",
              "      display: none;\n",
              "      fill: #1967D2;\n",
              "      height: 32px;\n",
              "      padding: 0 0 0 0;\n",
              "      width: 32px;\n",
              "    }\n",
              "\n",
              "    .colab-df-convert:hover {\n",
              "      background-color: #E2EBFA;\n",
              "      box-shadow: 0px 1px 2px rgba(60, 64, 67, 0.3), 0px 1px 3px 1px rgba(60, 64, 67, 0.15);\n",
              "      fill: #174EA6;\n",
              "    }\n",
              "\n",
              "    [theme=dark] .colab-df-convert {\n",
              "      background-color: #3B4455;\n",
              "      fill: #D2E3FC;\n",
              "    }\n",
              "\n",
              "    [theme=dark] .colab-df-convert:hover {\n",
              "      background-color: #434B5C;\n",
              "      box-shadow: 0px 1px 3px 1px rgba(0, 0, 0, 0.15);\n",
              "      filter: drop-shadow(0px 1px 2px rgba(0, 0, 0, 0.3));\n",
              "      fill: #FFFFFF;\n",
              "    }\n",
              "  </style>\n",
              "\n",
              "      <script>\n",
              "        const buttonEl =\n",
              "          document.querySelector('#df-37fa66fb-3d65-430c-ba02-100c9c9bda0f button.colab-df-convert');\n",
              "        buttonEl.style.display =\n",
              "          google.colab.kernel.accessAllowed ? 'block' : 'none';\n",
              "\n",
              "        async function convertToInteractive(key) {\n",
              "          const element = document.querySelector('#df-37fa66fb-3d65-430c-ba02-100c9c9bda0f');\n",
              "          const dataTable =\n",
              "            await google.colab.kernel.invokeFunction('convertToInteractive',\n",
              "                                                     [key], {});\n",
              "          if (!dataTable) return;\n",
              "\n",
              "          const docLinkHtml = 'Like what you see? Visit the ' +\n",
              "            '<a target=\"_blank\" href=https://colab.research.google.com/notebooks/data_table.ipynb>data table notebook</a>'\n",
              "            + ' to learn more about interactive tables.';\n",
              "          element.innerHTML = '';\n",
              "          dataTable['output_type'] = 'display_data';\n",
              "          await google.colab.output.renderOutput(dataTable, element);\n",
              "          const docLink = document.createElement('div');\n",
              "          docLink.innerHTML = docLinkHtml;\n",
              "          element.appendChild(docLink);\n",
              "        }\n",
              "      </script>\n",
              "    </div>\n",
              "  </div>\n",
              "  "
            ]
          },
          "metadata": {},
          "execution_count": 5
        }
      ]
    },
    {
      "cell_type": "code",
      "source": [
        "# Coverting the pandas dataframe to a spark dataframe so that we can use pyspark code\n",
        "data = spark.createDataFrame(df)"
      ],
      "metadata": {
        "id": "7nKZnMl3-noC"
      },
      "execution_count": null,
      "outputs": []
    },
    {
      "cell_type": "code",
      "source": [
        "data.show(10)"
      ],
      "metadata": {
        "id": "FU7sOvYohHYY",
        "colab": {
          "base_uri": "https://localhost:8080/"
        },
        "outputId": "ce3574f8-e741-4d90-d5ce-3cc249b626bf"
      },
      "execution_count": null,
      "outputs": [
        {
          "output_type": "stream",
          "name": "stdout",
          "text": [
            "+-----------+---------+------+---+------+---------+-------------+---------+--------------+---------------+------+\n",
            "|CreditScore|Geography|Gender|Age|Tenure|  Balance|NumOfProducts|HasCrCard|IsActiveMember|EstimatedSalary|Exited|\n",
            "+-----------+---------+------+---+------+---------+-------------+---------+--------------+---------------+------+\n",
            "|        619|   France|Female| 42|     2|      0.0|            1|        1|             1|      101348.88|     1|\n",
            "|        502|   France|Female| 42|     8| 159660.8|            3|        1|             0|      113931.57|     1|\n",
            "|        645|    Spain|  Male| 44|     8|113755.78|            2|        1|             0|      149756.71|     1|\n",
            "|        376|  Germany|Female| 29|     4|115046.74|            4|        1|             0|      119346.88|     1|\n",
            "|        653|  Germany|  Male| 58|     1|132602.88|            1|        1|             0|        5097.67|     1|\n",
            "|        510|    Spain|Female| 38|     4|      0.0|            1|        1|             0|      118913.53|     1|\n",
            "|        591|    Spain|Female| 39|     3|      0.0|            3|        1|             0|      140469.38|     1|\n",
            "|        475|   France|Female| 45|     0|134264.04|            1|        1|             0|       27822.99|     1|\n",
            "|        465|   France|Female| 51|     8|122522.32|            1|        0|             0|      181297.65|     1|\n",
            "|        834|   France|Female| 49|     2|131394.56|            1|        0|             0|      194365.76|     1|\n",
            "+-----------+---------+------+---+------+---------+-------------+---------+--------------+---------------+------+\n",
            "only showing top 10 rows\n",
            "\n"
          ]
        }
      ]
    },
    {
      "cell_type": "code",
      "source": [
        "# Use \".printSchema()\" to tell us the datatype of each column. Similar to data.info() or data.dtypes in pandas\n",
        "data.printSchema()"
      ],
      "metadata": {
        "id": "6aiW-9QmhHc0",
        "colab": {
          "base_uri": "https://localhost:8080/"
        },
        "outputId": "e509ac91-975b-49de-ddca-be406faf5c2b"
      },
      "execution_count": null,
      "outputs": [
        {
          "output_type": "stream",
          "name": "stdout",
          "text": [
            "root\n",
            " |-- CreditScore: long (nullable = true)\n",
            " |-- Geography: string (nullable = true)\n",
            " |-- Gender: string (nullable = true)\n",
            " |-- Age: long (nullable = true)\n",
            " |-- Tenure: long (nullable = true)\n",
            " |-- Balance: double (nullable = true)\n",
            " |-- NumOfProducts: long (nullable = true)\n",
            " |-- HasCrCard: long (nullable = true)\n",
            " |-- IsActiveMember: long (nullable = true)\n",
            " |-- EstimatedSalary: double (nullable = true)\n",
            " |-- Exited: long (nullable = true)\n",
            "\n"
          ]
        }
      ]
    },
    {
      "cell_type": "markdown",
      "source": [
        "## How does spark work??\n",
        "\n",
        "A Spark dataframe is a distributed collection of data. This means that all processing does not happen in memory it happens accross a bunch of computers which we call a cluster."
      ],
      "metadata": {
        "id": "OVup7813_g3j"
      }
    },
    {
      "cell_type": "code",
      "source": [
        "# What happens if you run this? Does it show the actual data?\n",
        "data"
      ],
      "metadata": {
        "id": "uEIMQxECAEC5",
        "colab": {
          "base_uri": "https://localhost:8080/"
        },
        "outputId": "60212a5e-743d-4a86-c932-42015775ab62"
      },
      "execution_count": null,
      "outputs": [
        {
          "output_type": "execute_result",
          "data": {
            "text/plain": [
              "DataFrame[CreditScore: bigint, Geography: string, Gender: string, Age: bigint, Tenure: bigint, Balance: double, NumOfProducts: bigint, HasCrCard: bigint, IsActiveMember: bigint, EstimatedSalary: double, Exited: bigint]"
            ]
          },
          "metadata": {},
          "execution_count": 9
        }
      ]
    },
    {
      "cell_type": "markdown",
      "source": [
        "Try run this? Why does it show data this time? We call this lazy evaluation, meaning that Spark will only actually try and compute what you've asked it to at the very last moment. Hence, we use .show() to force spark to show us the data. In practice this could be expensive since the data is often stored among many computers!! [Here](https://spark.apache.org/docs/latest/api/python/reference/api/pyspark.sql.DataFrame.show.html) is documentation for the `show` method"
      ],
      "metadata": {
        "id": "ix91okegHLJF"
      }
    },
    {
      "cell_type": "code",
      "source": [
        "data.show()"
      ],
      "metadata": {
        "id": "rdUjBiqWAX1s",
        "colab": {
          "base_uri": "https://localhost:8080/"
        },
        "outputId": "ba21a41e-4f60-41b5-c6ef-843e7308d966"
      },
      "execution_count": null,
      "outputs": [
        {
          "output_type": "stream",
          "name": "stdout",
          "text": [
            "+-----------+---------+------+---+------+---------+-------------+---------+--------------+---------------+------+\n",
            "|CreditScore|Geography|Gender|Age|Tenure|  Balance|NumOfProducts|HasCrCard|IsActiveMember|EstimatedSalary|Exited|\n",
            "+-----------+---------+------+---+------+---------+-------------+---------+--------------+---------------+------+\n",
            "|        619|   France|Female| 42|     2|      0.0|            1|        1|             1|      101348.88|     1|\n",
            "|        502|   France|Female| 42|     8| 159660.8|            3|        1|             0|      113931.57|     1|\n",
            "|        645|    Spain|  Male| 44|     8|113755.78|            2|        1|             0|      149756.71|     1|\n",
            "|        376|  Germany|Female| 29|     4|115046.74|            4|        1|             0|      119346.88|     1|\n",
            "|        653|  Germany|  Male| 58|     1|132602.88|            1|        1|             0|        5097.67|     1|\n",
            "|        510|    Spain|Female| 38|     4|      0.0|            1|        1|             0|      118913.53|     1|\n",
            "|        591|    Spain|Female| 39|     3|      0.0|            3|        1|             0|      140469.38|     1|\n",
            "|        475|   France|Female| 45|     0|134264.04|            1|        1|             0|       27822.99|     1|\n",
            "|        465|   France|Female| 51|     8|122522.32|            1|        0|             0|      181297.65|     1|\n",
            "|        834|   France|Female| 49|     2|131394.56|            1|        0|             0|      194365.76|     1|\n",
            "|        829|  Germany|Female| 27|     9|112045.67|            1|        1|             1|      119708.21|     1|\n",
            "|        637|  Germany|Female| 39|     9| 137843.8|            1|        1|             1|       117622.8|     1|\n",
            "|        655|  Germany|  Male| 41|     8|125561.97|            1|        0|             0|      164040.94|     1|\n",
            "|        601|  Germany|  Male| 42|     1| 98495.72|            1|        1|             0|       40014.76|     1|\n",
            "|        511|    Spain|Female| 66|     4|      0.0|            1|        1|             0|        1643.11|     1|\n",
            "|        738|  Germany|  Male| 58|     2|133745.44|            4|        1|             0|       28373.86|     1|\n",
            "|        777|   France|Female| 32|     2|      0.0|            1|        1|             0|      136458.19|     1|\n",
            "|        750|    Spain|  Male| 22|     3|121681.82|            1|        1|             0|      128643.35|     1|\n",
            "|        646|   France|Female| 46|     4|      0.0|            3|        1|             0|       93251.42|     1|\n",
            "|        647|    Spain|Female| 44|     5|      0.0|            3|        1|             1|      174205.22|     1|\n",
            "+-----------+---------+------+---+------+---------+-------------+---------+--------------+---------------+------+\n",
            "only showing top 20 rows\n",
            "\n"
          ]
        }
      ]
    },
    {
      "cell_type": "markdown",
      "source": [
        "## Get Column Names"
      ],
      "metadata": {
        "id": "3K4VKsdQUkzR"
      }
    },
    {
      "cell_type": "code",
      "source": [
        "data.columns"
      ],
      "metadata": {
        "id": "86bhlLERhHe_",
        "colab": {
          "base_uri": "https://localhost:8080/"
        },
        "outputId": "36cd9d76-ba77-4cbb-ed6a-5596e7cd4313"
      },
      "execution_count": null,
      "outputs": [
        {
          "output_type": "execute_result",
          "data": {
            "text/plain": [
              "['CreditScore',\n",
              " 'Geography',\n",
              " 'Gender',\n",
              " 'Age',\n",
              " 'Tenure',\n",
              " 'Balance',\n",
              " 'NumOfProducts',\n",
              " 'HasCrCard',\n",
              " 'IsActiveMember',\n",
              " 'EstimatedSalary',\n",
              " 'Exited']"
            ]
          },
          "metadata": {},
          "execution_count": 11
        }
      ]
    },
    {
      "cell_type": "markdown",
      "source": [
        "## Select Columns\n",
        "\n",
        "Task: Select the <mark>Age</mark> and <mark>HasCrCard</mark> columns and show the first 5 rows of data. Do it in TWO different ways\n",
        "\n",
        "[Documentation for selecting columns](https://sparkbyexamples.com/pyspark/select-columns-from-pyspark-dataframe/)"
      ],
      "metadata": {
        "id": "jGRrphleUq9o"
      }
    },
    {
      "cell_type": "code",
      "source": [
        "# Method 1: Pass in column names as strings\n",
        "data.select('Age', 'HasCrCard').show(n=10)  # n tells us the number of rows to select\n",
        "\n",
        "# Passing in a list is fine too:\n",
        "# cols = ['Age', 'HasCrCard']\n",
        "# data.select(cols).show()"
      ],
      "metadata": {
        "id": "YYoz28pOhHhu",
        "colab": {
          "base_uri": "https://localhost:8080/"
        },
        "outputId": "eac896cb-f911-4ab7-ee32-c04120cdcff2"
      },
      "execution_count": null,
      "outputs": [
        {
          "output_type": "stream",
          "name": "stdout",
          "text": [
            "+---+---------+\n",
            "|Age|HasCrCard|\n",
            "+---+---------+\n",
            "| 42|        1|\n",
            "| 42|        1|\n",
            "| 44|        1|\n",
            "| 29|        1|\n",
            "| 58|        1|\n",
            "| 38|        1|\n",
            "| 39|        1|\n",
            "| 45|        1|\n",
            "| 51|        0|\n",
            "| 49|        0|\n",
            "+---+---------+\n",
            "only showing top 10 rows\n",
            "\n"
          ]
        }
      ]
    },
    {
      "cell_type": "code",
      "source": [
        "# Method 2: With the selectExpr method (allows us to alias column names easily)\n",
        "data.selectExpr(\"Age\", \"HasCrCard as has_credit_card\").show()"
      ],
      "metadata": {
        "id": "svFttxH0taPc",
        "colab": {
          "base_uri": "https://localhost:8080/"
        },
        "outputId": "c308dd89-91c3-4cc4-c1fd-aadf6c1ae1f8"
      },
      "execution_count": null,
      "outputs": [
        {
          "output_type": "stream",
          "name": "stdout",
          "text": [
            "+---+---------------+\n",
            "|Age|has_credit_card|\n",
            "+---+---------------+\n",
            "| 42|              1|\n",
            "| 42|              1|\n",
            "| 44|              1|\n",
            "| 29|              1|\n",
            "| 58|              1|\n",
            "| 38|              1|\n",
            "| 39|              1|\n",
            "| 45|              1|\n",
            "| 51|              0|\n",
            "| 49|              0|\n",
            "| 27|              1|\n",
            "| 39|              1|\n",
            "| 41|              0|\n",
            "| 42|              1|\n",
            "| 66|              1|\n",
            "| 58|              1|\n",
            "| 32|              1|\n",
            "| 22|              1|\n",
            "| 46|              1|\n",
            "| 44|              1|\n",
            "+---+---------------+\n",
            "only showing top 20 rows\n",
            "\n"
          ]
        }
      ]
    },
    {
      "cell_type": "markdown",
      "source": [
        "### Describe the dataset"
      ],
      "metadata": {
        "id": "nRxGlVn7VyCC"
      }
    },
    {
      "cell_type": "code",
      "source": [
        "data.describe().show()"
      ],
      "metadata": {
        "id": "_dxZj_l2hHjn",
        "colab": {
          "base_uri": "https://localhost:8080/"
        },
        "outputId": "ed71c4a8-30c5-4cc9-a210-829d9cb67d13"
      },
      "execution_count": null,
      "outputs": [
        {
          "output_type": "stream",
          "name": "stdout",
          "text": [
            "+-------+-----------------+---------+------+------------------+------------------+------------------+------------------+-------------------+-------------------+------------------+------------------+\n",
            "|summary|      CreditScore|Geography|Gender|               Age|            Tenure|           Balance|     NumOfProducts|          HasCrCard|     IsActiveMember|   EstimatedSalary|            Exited|\n",
            "+-------+-----------------+---------+------+------------------+------------------+------------------+------------------+-------------------+-------------------+------------------+------------------+\n",
            "|  count|             5000|     5000|  5000|              5000|              5000|              5000|              5000|               5000|               5000|              5000|              5000|\n",
            "|   mean|         649.4316|     null|  null|           40.4966|            5.0046| 80053.70446600008|            1.5168|             0.7044|             0.4792|100252.90096400009|           -0.1852|\n",
            "| stddev|97.26964582149795|     null|  null|10.577710812515479|2.8992171239812987|61702.500825890915|0.6451364198369522|0.45635763657299744|0.49961713687251696| 57556.38350857956|0.9827991345273783|\n",
            "|    min|              350|   France|Female|                18|                 0|               0.0|                 1|                  0|                  0|             11.58|                -1|\n",
            "|    max|              850|    Spain|  Male|                92|                10|         250898.09|                 4|                  1|                  1|         199992.48|                 1|\n",
            "+-------+-----------------+---------+------+------------------+------------------+------------------+------------------+-------------------+-------------------+------------------+------------------+\n",
            "\n"
          ]
        }
      ]
    },
    {
      "cell_type": "markdown",
      "source": [
        "# Changing data types\n",
        "\n",
        "Changing datatypes is important since we might want to perform arithmetic operations. This becomes problematic is numbers are being stored as strings, but this can be fixed."
      ],
      "metadata": {
        "id": "7nAy0floWoac"
      }
    },
    {
      "cell_type": "code",
      "source": [
        "# The following imports help us eventually change datatypes\n",
        "from pyspark.sql.types import DoubleType, IntegerType, DateType\n",
        "from pyspark.sql.functions import col, udf\n",
        "\n",
        "# Observe how the col() function is used here\n",
        "# We are essentially saying...\n",
        "# \"With the column called `Age`, we wish to convert/cast the ages to integers\"\n",
        "# \"...and with the column called `EstimatedSalary`, we wish to cast them to double (decimal/floating point numbers)\"\n",
        "# \"We'll then store this in a variable called data (to overwrite our original data)\"\n",
        "data = data \\\n",
        "       .withColumn('Age', col('Age').cast(IntegerType())) \\\n",
        "       .withColumn('EstimatedSalary', col('EstimatedSalary').cast(DoubleType()))\n",
        "\n",
        "data.show(n=10)"
      ],
      "metadata": {
        "id": "CtfqCW3pV8vg",
        "colab": {
          "base_uri": "https://localhost:8080/"
        },
        "outputId": "57b6c93e-0162-4ebf-a5bc-e2c24e1de85a"
      },
      "execution_count": null,
      "outputs": [
        {
          "output_type": "stream",
          "name": "stdout",
          "text": [
            "+-----------+---------+------+---+------+---------+-------------+---------+--------------+---------------+------+\n",
            "|CreditScore|Geography|Gender|Age|Tenure|  Balance|NumOfProducts|HasCrCard|IsActiveMember|EstimatedSalary|Exited|\n",
            "+-----------+---------+------+---+------+---------+-------------+---------+--------------+---------------+------+\n",
            "|        619|   France|Female| 42|     2|      0.0|            1|        1|             1|      101348.88|     1|\n",
            "|        502|   France|Female| 42|     8| 159660.8|            3|        1|             0|      113931.57|     1|\n",
            "|        645|    Spain|  Male| 44|     8|113755.78|            2|        1|             0|      149756.71|     1|\n",
            "|        376|  Germany|Female| 29|     4|115046.74|            4|        1|             0|      119346.88|     1|\n",
            "|        653|  Germany|  Male| 58|     1|132602.88|            1|        1|             0|        5097.67|     1|\n",
            "|        510|    Spain|Female| 38|     4|      0.0|            1|        1|             0|      118913.53|     1|\n",
            "|        591|    Spain|Female| 39|     3|      0.0|            3|        1|             0|      140469.38|     1|\n",
            "|        475|   France|Female| 45|     0|134264.04|            1|        1|             0|       27822.99|     1|\n",
            "|        465|   France|Female| 51|     8|122522.32|            1|        0|             0|      181297.65|     1|\n",
            "|        834|   France|Female| 49|     2|131394.56|            1|        0|             0|      194365.76|     1|\n",
            "+-----------+---------+------+---+------+---------+-------------+---------+--------------+---------------+------+\n",
            "only showing top 10 rows\n",
            "\n"
          ]
        }
      ]
    },
    {
      "cell_type": "code",
      "source": [
        "# We see that the data types have been changed\n",
        "data.printSchema()"
      ],
      "metadata": {
        "id": "0g0R3NPFV8tb",
        "colab": {
          "base_uri": "https://localhost:8080/"
        },
        "outputId": "09f711e8-3df1-4f73-8daa-b43b667f284f"
      },
      "execution_count": null,
      "outputs": [
        {
          "output_type": "stream",
          "name": "stdout",
          "text": [
            "root\n",
            " |-- CreditScore: long (nullable = true)\n",
            " |-- Geography: string (nullable = true)\n",
            " |-- Gender: string (nullable = true)\n",
            " |-- Age: integer (nullable = true)\n",
            " |-- Tenure: long (nullable = true)\n",
            " |-- Balance: double (nullable = true)\n",
            " |-- NumOfProducts: long (nullable = true)\n",
            " |-- HasCrCard: long (nullable = true)\n",
            " |-- IsActiveMember: long (nullable = true)\n",
            " |-- EstimatedSalary: double (nullable = true)\n",
            " |-- Exited: long (nullable = true)\n",
            "\n"
          ]
        }
      ]
    },
    {
      "cell_type": "markdown",
      "source": [
        "### Creating a column\n",
        "\n",
        "Create a column, <b>est_salary_next_year</b> that takes our original column and adds 10 percent"
      ],
      "metadata": {
        "id": "GhC3ntj8aB5_"
      }
    },
    {
      "cell_type": "code",
      "source": [
        "# Observe how for the `colName` argument we pass in the column name as a string\n",
        "# ...and for the `col` argument (what we want the new column to look like), we use dot notation\n",
        "data = data.withColumn(colName='est_salary_next_year', col=data.EstimatedSalary * 1.1)\n",
        "data.show()"
      ],
      "metadata": {
        "id": "d0yXs4s_aGuQ",
        "colab": {
          "base_uri": "https://localhost:8080/"
        },
        "outputId": "d71980bb-f30e-4d79-e24e-7a1b7c7104fc"
      },
      "execution_count": null,
      "outputs": [
        {
          "output_type": "stream",
          "name": "stdout",
          "text": [
            "+-----------+---------+------+---+------+---------+-------------+---------+--------------+---------------+------+--------------------+\n",
            "|CreditScore|Geography|Gender|Age|Tenure|  Balance|NumOfProducts|HasCrCard|IsActiveMember|EstimatedSalary|Exited|est_salary_next_year|\n",
            "+-----------+---------+------+---+------+---------+-------------+---------+--------------+---------------+------+--------------------+\n",
            "|        619|   France|Female| 42|     2|      0.0|            1|        1|             1|      101348.88|     1|  111483.76800000001|\n",
            "|        502|   France|Female| 42|     8| 159660.8|            3|        1|             0|      113931.57|     1|  125324.72700000001|\n",
            "|        645|    Spain|  Male| 44|     8|113755.78|            2|        1|             0|      149756.71|     1|          164732.381|\n",
            "|        376|  Germany|Female| 29|     4|115046.74|            4|        1|             0|      119346.88|     1|  131281.56800000003|\n",
            "|        653|  Germany|  Male| 58|     1|132602.88|            1|        1|             0|        5097.67|     1|   5607.437000000001|\n",
            "|        510|    Spain|Female| 38|     4|      0.0|            1|        1|             0|      118913.53|     1|  130804.88300000002|\n",
            "|        591|    Spain|Female| 39|     3|      0.0|            3|        1|             0|      140469.38|     1|  154516.31800000003|\n",
            "|        475|   France|Female| 45|     0|134264.04|            1|        1|             0|       27822.99|     1|  30605.289000000004|\n",
            "|        465|   France|Female| 51|     8|122522.32|            1|        0|             0|      181297.65|     1|          199427.415|\n",
            "|        834|   France|Female| 49|     2|131394.56|            1|        0|             0|      194365.76|     1|  213802.33600000004|\n",
            "|        829|  Germany|Female| 27|     9|112045.67|            1|        1|             1|      119708.21|     1|  131679.03100000002|\n",
            "|        637|  Germany|Female| 39|     9| 137843.8|            1|        1|             1|       117622.8|     1|  129385.08000000002|\n",
            "|        655|  Germany|  Male| 41|     8|125561.97|            1|        0|             0|      164040.94|     1|          180445.034|\n",
            "|        601|  Germany|  Male| 42|     1| 98495.72|            1|        1|             0|       40014.76|     1|  44016.236000000004|\n",
            "|        511|    Spain|Female| 66|     4|      0.0|            1|        1|             0|        1643.11|     1|            1807.421|\n",
            "|        738|  Germany|  Male| 58|     2|133745.44|            4|        1|             0|       28373.86|     1|  31211.246000000003|\n",
            "|        777|   France|Female| 32|     2|      0.0|            1|        1|             0|      136458.19|     1|  150104.00900000002|\n",
            "|        750|    Spain|  Male| 22|     3|121681.82|            1|        1|             0|      128643.35|     1|  141507.68500000003|\n",
            "|        646|   France|Female| 46|     4|      0.0|            3|        1|             0|       93251.42|     1|          102576.562|\n",
            "|        647|    Spain|Female| 44|     5|      0.0|            3|        1|             1|      174205.22|     1|  191625.74200000003|\n",
            "+-----------+---------+------+---+------+---------+-------------+---------+--------------+---------------+------+--------------------+\n",
            "only showing top 20 rows\n",
            "\n"
          ]
        }
      ]
    },
    {
      "cell_type": "markdown",
      "source": [
        "With the `udf` (user defined function) import seen above, we can also write custom functions and apply this to a particular column. [Documentation here](https://sparkbyexamples.com/pyspark/pyspark-udf-user-defined-function/)"
      ],
      "metadata": {
        "id": "QpBq_fJOJnGh"
      }
    },
    {
      "cell_type": "code",
      "source": [
        "def age_conversion(value):\n",
        "    if value < 35:\n",
        "        return 'Apply 10% discount'\n",
        "    elif value < 50:\n",
        "        return 'Apply 5% discount'\n",
        "    else:\n",
        "        return 'Apply 1% discount'"
      ],
      "metadata": {
        "id": "CEpMoNJcEdJM"
      },
      "execution_count": null,
      "outputs": []
    },
    {
      "cell_type": "code",
      "source": [
        "# Applying our custom function\n",
        "\n",
        "from pyspark.sql.types import StringType\n",
        "\n",
        "# We want to store the transformation process in a variable to that we can apply it to a column\n",
        "# Note how we explicitly define what data type we want the column to be (StringType)\n",
        "transformation = udf(lambda val: age_conversion(val), StringType())\n",
        "\n",
        "data = data.withColumn(colName='Age_discounts', col=transformation(col('Age')))\n",
        "data.show()"
      ],
      "metadata": {
        "id": "ApeAN7nXEn4g",
        "colab": {
          "base_uri": "https://localhost:8080/"
        },
        "outputId": "ea60d253-b072-4a95-9366-8fbbfdbf74cd"
      },
      "execution_count": null,
      "outputs": [
        {
          "output_type": "stream",
          "name": "stdout",
          "text": [
            "+-----------+---------+------+---+------+---------+-------------+---------+--------------+---------------+------+--------------------+------------------+\n",
            "|CreditScore|Geography|Gender|Age|Tenure|  Balance|NumOfProducts|HasCrCard|IsActiveMember|EstimatedSalary|Exited|est_salary_next_year|     Age_discounts|\n",
            "+-----------+---------+------+---+------+---------+-------------+---------+--------------+---------------+------+--------------------+------------------+\n",
            "|        619|   France|Female| 42|     2|      0.0|            1|        1|             1|      101348.88|     1|  111483.76800000001| Apply 5% discount|\n",
            "|        502|   France|Female| 42|     8| 159660.8|            3|        1|             0|      113931.57|     1|  125324.72700000001| Apply 5% discount|\n",
            "|        645|    Spain|  Male| 44|     8|113755.78|            2|        1|             0|      149756.71|     1|          164732.381| Apply 5% discount|\n",
            "|        376|  Germany|Female| 29|     4|115046.74|            4|        1|             0|      119346.88|     1|  131281.56800000003|Apply 10% discount|\n",
            "|        653|  Germany|  Male| 58|     1|132602.88|            1|        1|             0|        5097.67|     1|   5607.437000000001| Apply 1% discount|\n",
            "|        510|    Spain|Female| 38|     4|      0.0|            1|        1|             0|      118913.53|     1|  130804.88300000002| Apply 5% discount|\n",
            "|        591|    Spain|Female| 39|     3|      0.0|            3|        1|             0|      140469.38|     1|  154516.31800000003| Apply 5% discount|\n",
            "|        475|   France|Female| 45|     0|134264.04|            1|        1|             0|       27822.99|     1|  30605.289000000004| Apply 5% discount|\n",
            "|        465|   France|Female| 51|     8|122522.32|            1|        0|             0|      181297.65|     1|          199427.415| Apply 1% discount|\n",
            "|        834|   France|Female| 49|     2|131394.56|            1|        0|             0|      194365.76|     1|  213802.33600000004| Apply 5% discount|\n",
            "|        829|  Germany|Female| 27|     9|112045.67|            1|        1|             1|      119708.21|     1|  131679.03100000002|Apply 10% discount|\n",
            "|        637|  Germany|Female| 39|     9| 137843.8|            1|        1|             1|       117622.8|     1|  129385.08000000002| Apply 5% discount|\n",
            "|        655|  Germany|  Male| 41|     8|125561.97|            1|        0|             0|      164040.94|     1|          180445.034| Apply 5% discount|\n",
            "|        601|  Germany|  Male| 42|     1| 98495.72|            1|        1|             0|       40014.76|     1|  44016.236000000004| Apply 5% discount|\n",
            "|        511|    Spain|Female| 66|     4|      0.0|            1|        1|             0|        1643.11|     1|            1807.421| Apply 1% discount|\n",
            "|        738|  Germany|  Male| 58|     2|133745.44|            4|        1|             0|       28373.86|     1|  31211.246000000003| Apply 1% discount|\n",
            "|        777|   France|Female| 32|     2|      0.0|            1|        1|             0|      136458.19|     1|  150104.00900000002|Apply 10% discount|\n",
            "|        750|    Spain|  Male| 22|     3|121681.82|            1|        1|             0|      128643.35|     1|  141507.68500000003|Apply 10% discount|\n",
            "|        646|   France|Female| 46|     4|      0.0|            3|        1|             0|       93251.42|     1|          102576.562| Apply 5% discount|\n",
            "|        647|    Spain|Female| 44|     5|      0.0|            3|        1|             1|      174205.22|     1|  191625.74200000003| Apply 5% discount|\n",
            "+-----------+---------+------+---+------+---------+-------------+---------+--------------+---------------+------+--------------------+------------------+\n",
            "only showing top 20 rows\n",
            "\n"
          ]
        }
      ]
    },
    {
      "cell_type": "markdown",
      "source": [
        "### Rename a column\n",
        "[Documentation for withColumnRenamed here](https://sparkbyexamples.com/pyspark/pyspark-rename-dataframe-column/)"
      ],
      "metadata": {
        "id": "9_Kxrw_2Ypwp"
      }
    },
    {
      "cell_type": "code",
      "source": [
        "data = data.withColumnRenamed(existing='HasCrCard', new='has_credit_card')\n",
        "data.show(n=2)"
      ],
      "metadata": {
        "id": "bZ_y6AfcV8oN",
        "colab": {
          "base_uri": "https://localhost:8080/"
        },
        "outputId": "9c5a20ce-4045-4a4f-cabf-a8187f1f144c"
      },
      "execution_count": null,
      "outputs": [
        {
          "output_type": "stream",
          "name": "stdout",
          "text": [
            "+-----------+---------+------+---+------+--------+-------------+---------------+--------------+---------------+------+--------------------+-----------------+\n",
            "|CreditScore|Geography|Gender|Age|Tenure| Balance|NumOfProducts|has_credit_card|IsActiveMember|EstimatedSalary|Exited|est_salary_next_year|    Age_discounts|\n",
            "+-----------+---------+------+---+------+--------+-------------+---------------+--------------+---------------+------+--------------------+-----------------+\n",
            "|        619|   France|Female| 42|     2|     0.0|            1|              1|             1|      101348.88|     1|  111483.76800000001|Apply 5% discount|\n",
            "|        502|   France|Female| 42|     8|159660.8|            3|              1|             0|      113931.57|     1|  125324.72700000001|Apply 5% discount|\n",
            "+-----------+---------+------+---+------+--------+-------------+---------------+--------------+---------------+------+--------------------+-----------------+\n",
            "only showing top 2 rows\n",
            "\n"
          ]
        }
      ]
    },
    {
      "cell_type": "code",
      "source": [
        "data.select(col(\"Gender\").alias(\"sex\")).show()"
      ],
      "metadata": {
        "id": "PdEyanxhxQzT",
        "colab": {
          "base_uri": "https://localhost:8080/"
        },
        "outputId": "de77e1b9-925b-464e-8bac-64826d70aa20"
      },
      "execution_count": null,
      "outputs": [
        {
          "output_type": "stream",
          "name": "stdout",
          "text": [
            "+------+\n",
            "|   sex|\n",
            "+------+\n",
            "|Female|\n",
            "|Female|\n",
            "|  Male|\n",
            "|Female|\n",
            "|  Male|\n",
            "|Female|\n",
            "|Female|\n",
            "|Female|\n",
            "|Female|\n",
            "|Female|\n",
            "|Female|\n",
            "|Female|\n",
            "|  Male|\n",
            "|  Male|\n",
            "|Female|\n",
            "|  Male|\n",
            "|Female|\n",
            "|  Male|\n",
            "|Female|\n",
            "|Female|\n",
            "+------+\n",
            "only showing top 20 rows\n",
            "\n"
          ]
        }
      ]
    },
    {
      "cell_type": "code",
      "source": [
        "data.selectExpr(\"Gender as sex\")"
      ],
      "metadata": {
        "id": "zVNE9xg9xcxi",
        "colab": {
          "base_uri": "https://localhost:8080/"
        },
        "outputId": "e3f87e18-ed16-48fc-b80a-2d7c8eb14334"
      },
      "execution_count": null,
      "outputs": [
        {
          "output_type": "execute_result",
          "data": {
            "text/plain": [
              "DataFrame[sex: string]"
            ]
          },
          "metadata": {},
          "execution_count": 22
        }
      ]
    },
    {
      "cell_type": "markdown",
      "source": [
        "# Filter rows\n",
        "\n",
        "Let's filter some rows in 3 different ways\n",
        "\n",
        "[See docs for more](https://sparkbyexamples.com/pyspark/pyspark-where-filter/)\n"
      ],
      "metadata": {
        "id": "ncIoe9Ps_LN-"
      }
    },
    {
      "cell_type": "code",
      "source": [
        "# Gets all rows that match `Female`\n",
        "data.filter(data.Gender == \"Female\").show()"
      ],
      "metadata": {
        "id": "aUBVZ6qy_E_k",
        "colab": {
          "base_uri": "https://localhost:8080/"
        },
        "outputId": "249162c2-0efb-440f-f6b7-ece30930d571"
      },
      "execution_count": null,
      "outputs": [
        {
          "output_type": "stream",
          "name": "stdout",
          "text": [
            "+-----------+---------+------+---+------+---------+-------------+---------------+--------------+---------------+------+--------------------+------------------+\n",
            "|CreditScore|Geography|Gender|Age|Tenure|  Balance|NumOfProducts|has_credit_card|IsActiveMember|EstimatedSalary|Exited|est_salary_next_year|     Age_discounts|\n",
            "+-----------+---------+------+---+------+---------+-------------+---------------+--------------+---------------+------+--------------------+------------------+\n",
            "|        619|   France|Female| 42|     2|      0.0|            1|              1|             1|      101348.88|     1|  111483.76800000001| Apply 5% discount|\n",
            "|        502|   France|Female| 42|     8| 159660.8|            3|              1|             0|      113931.57|     1|  125324.72700000001| Apply 5% discount|\n",
            "|        376|  Germany|Female| 29|     4|115046.74|            4|              1|             0|      119346.88|     1|  131281.56800000003|Apply 10% discount|\n",
            "|        510|    Spain|Female| 38|     4|      0.0|            1|              1|             0|      118913.53|     1|  130804.88300000002| Apply 5% discount|\n",
            "|        591|    Spain|Female| 39|     3|      0.0|            3|              1|             0|      140469.38|     1|  154516.31800000003| Apply 5% discount|\n",
            "|        475|   France|Female| 45|     0|134264.04|            1|              1|             0|       27822.99|     1|  30605.289000000004| Apply 5% discount|\n",
            "|        465|   France|Female| 51|     8|122522.32|            1|              0|             0|      181297.65|     1|          199427.415| Apply 1% discount|\n",
            "|        834|   France|Female| 49|     2|131394.56|            1|              0|             0|      194365.76|     1|  213802.33600000004| Apply 5% discount|\n",
            "|        829|  Germany|Female| 27|     9|112045.67|            1|              1|             1|      119708.21|     1|  131679.03100000002|Apply 10% discount|\n",
            "|        637|  Germany|Female| 39|     9| 137843.8|            1|              1|             1|       117622.8|     1|  129385.08000000002| Apply 5% discount|\n",
            "|        511|    Spain|Female| 66|     4|      0.0|            1|              1|             0|        1643.11|     1|            1807.421| Apply 1% discount|\n",
            "|        777|   France|Female| 32|     2|      0.0|            1|              1|             0|      136458.19|     1|  150104.00900000002|Apply 10% discount|\n",
            "|        646|   France|Female| 46|     4|      0.0|            3|              1|             0|       93251.42|     1|          102576.562| Apply 5% discount|\n",
            "|        647|    Spain|Female| 44|     5|      0.0|            3|              1|             1|      174205.22|     1|  191625.74200000003| Apply 5% discount|\n",
            "|        670|    Spain|Female| 65|     1|      0.0|            1|              1|             1|      177655.68|     1|  195421.24800000002| Apply 1% discount|\n",
            "|        622|    Spain|Female| 46|     4|107073.27|            2|              1|             1|       30984.59|     1|  34083.049000000006| Apply 5% discount|\n",
            "|        524|  Germany|Female| 31|     8|107818.63|            1|              1|             0|      199725.39|     1|  219697.92900000003|Apply 10% discount|\n",
            "|        549|   France|Female| 52|     1|      0.0|            1|              0|             1|        8636.05|     1|            9499.655| Apply 1% discount|\n",
            "|        584|    Spain|Female| 48|     2| 213146.2|            1|              1|             0|       75161.25|     1|           82677.375| Apply 5% discount|\n",
            "|        579|    Spain|Female| 35|     1|129490.36|            2|              0|             1|        8590.83|     1|            9449.913| Apply 5% discount|\n",
            "+-----------+---------+------+---+------+---------+-------------+---------------+--------------+---------------+------+--------------------+------------------+\n",
            "only showing top 20 rows\n",
            "\n"
          ]
        }
      ]
    },
    {
      "cell_type": "code",
      "source": [
        "# We can use `filter()` and `where()` interchangably\n",
        "data.where(data.EstimatedSalary <= 500).show()\n",
        "\n",
        "# Parsing SQL expression as a string also works\n",
        "data.where(\"EstimatedSalary <= 500\").show()"
      ],
      "metadata": {
        "id": "4DwCyuXTxv1z",
        "colab": {
          "base_uri": "https://localhost:8080/"
        },
        "outputId": "75f1785b-ae3e-4d49-b37b-d9879cd308ee"
      },
      "execution_count": null,
      "outputs": [
        {
          "output_type": "stream",
          "name": "stdout",
          "text": [
            "+-----------+---------+------+---+------+---------+-------------+---------------+--------------+---------------+------+--------------------+------------------+\n",
            "|CreditScore|Geography|Gender|Age|Tenure|  Balance|NumOfProducts|has_credit_card|IsActiveMember|EstimatedSalary|Exited|est_salary_next_year|     Age_discounts|\n",
            "+-----------+---------+------+---+------+---------+-------------+---------------+--------------+---------------+------+--------------------+------------------+\n",
            "|        556|    Spain|  Male| 38|     8|      0.0|            2|              0|             0|         417.41|     1|  459.15100000000007| Apply 5% discount|\n",
            "|        616|  Germany|Female| 41|     1|103560.57|            1|              1|             0|         236.45|     1|             260.095| Apply 5% discount|\n",
            "|        709|  Germany|  Male| 45|     4|122917.71|            1|              1|             1|          11.58|     1|  12.738000000000001| Apply 5% discount|\n",
            "|        751|    Spain|Female| 34|     8|127095.14|            2|              0|             0|         479.54|    -1|             527.494|Apply 10% discount|\n",
            "|        777|  Germany|Female| 46|     0| 107362.8|            1|              1|             0|          487.3|    -1|   536.0300000000001| Apply 5% discount|\n",
            "|        708|   France|  Male| 52|    10|105355.81|            1|              1|             0|         123.07|     1|             135.377| Apply 1% discount|\n",
            "|        530|   France|  Male| 37|     8|      0.0|            2|              1|             1|         287.99|    -1|  316.78900000000004| Apply 5% discount|\n",
            "|        542|  Germany|Female| 35|     9|127543.11|            2|              1|             0|         468.94|     1|   515.8340000000001| Apply 5% discount|\n",
            "|        621|   France|  Male| 35|     7| 87619.29|            1|              1|             0|         143.34|    -1|             157.674| Apply 5% discount|\n",
            "|        645|  Germany|Female| 59|     8|121669.93|            2|              0|             0|          91.75|     1|  100.92500000000001| Apply 1% discount|\n",
            "|        625|   France|  Male| 31|     5|      0.0|            2|              0|             1|          90.07|    -1|              99.077|Apply 10% discount|\n",
            "|        715|   France|Female| 38|     0|      0.0|            2|              1|             1|         332.81|    -1|             366.091| Apply 5% discount|\n",
            "+-----------+---------+------+---+------+---------+-------------+---------------+--------------+---------------+------+--------------------+------------------+\n",
            "\n",
            "+-----------+---------+------+---+------+---------+-------------+---------------+--------------+---------------+------+--------------------+------------------+\n",
            "|CreditScore|Geography|Gender|Age|Tenure|  Balance|NumOfProducts|has_credit_card|IsActiveMember|EstimatedSalary|Exited|est_salary_next_year|     Age_discounts|\n",
            "+-----------+---------+------+---+------+---------+-------------+---------------+--------------+---------------+------+--------------------+------------------+\n",
            "|        556|    Spain|  Male| 38|     8|      0.0|            2|              0|             0|         417.41|     1|  459.15100000000007| Apply 5% discount|\n",
            "|        616|  Germany|Female| 41|     1|103560.57|            1|              1|             0|         236.45|     1|             260.095| Apply 5% discount|\n",
            "|        709|  Germany|  Male| 45|     4|122917.71|            1|              1|             1|          11.58|     1|  12.738000000000001| Apply 5% discount|\n",
            "|        751|    Spain|Female| 34|     8|127095.14|            2|              0|             0|         479.54|    -1|             527.494|Apply 10% discount|\n",
            "|        777|  Germany|Female| 46|     0| 107362.8|            1|              1|             0|          487.3|    -1|   536.0300000000001| Apply 5% discount|\n",
            "|        708|   France|  Male| 52|    10|105355.81|            1|              1|             0|         123.07|     1|             135.377| Apply 1% discount|\n",
            "|        530|   France|  Male| 37|     8|      0.0|            2|              1|             1|         287.99|    -1|  316.78900000000004| Apply 5% discount|\n",
            "|        542|  Germany|Female| 35|     9|127543.11|            2|              1|             0|         468.94|     1|   515.8340000000001| Apply 5% discount|\n",
            "|        621|   France|  Male| 35|     7| 87619.29|            1|              1|             0|         143.34|    -1|             157.674| Apply 5% discount|\n",
            "|        645|  Germany|Female| 59|     8|121669.93|            2|              0|             0|          91.75|     1|  100.92500000000001| Apply 1% discount|\n",
            "|        625|   France|  Male| 31|     5|      0.0|            2|              0|             1|          90.07|    -1|              99.077|Apply 10% discount|\n",
            "|        715|   France|Female| 38|     0|      0.0|            2|              1|             1|         332.81|    -1|             366.091| Apply 5% discount|\n",
            "+-----------+---------+------+---+------+---------+-------------+---------------+--------------+---------------+------+--------------------+------------------+\n",
            "\n"
          ]
        }
      ]
    },
    {
      "cell_type": "code",
      "source": [
        "# Finally, we can also filter columns in the same way as Pandas\n",
        "# Note that each condition needs to be in parentheses\n",
        "# REMEMBER TO USE `&` AND NOT `and`\n",
        "# REMEMBER TO USE `|` AND NOT `or`\n",
        "data[ ((data.Age == 40) & (data.Gender == 'Male')) | (data.Geography == 'Spain')].show()"
      ],
      "metadata": {
        "colab": {
          "base_uri": "https://localhost:8080/"
        },
        "id": "n40L75zsNADt",
        "outputId": "401b073e-0f8a-47bf-fdf9-2e68232cf400"
      },
      "execution_count": null,
      "outputs": [
        {
          "output_type": "stream",
          "name": "stdout",
          "text": [
            "+-----------+---------+------+---+------+---------+-------------+---------------+--------------+---------------+------+--------------------+------------------+\n",
            "|CreditScore|Geography|Gender|Age|Tenure|  Balance|NumOfProducts|has_credit_card|IsActiveMember|EstimatedSalary|Exited|est_salary_next_year|     Age_discounts|\n",
            "+-----------+---------+------+---+------+---------+-------------+---------------+--------------+---------------+------+--------------------+------------------+\n",
            "|        645|    Spain|  Male| 44|     8|113755.78|            2|              1|             0|      149756.71|     1|          164732.381| Apply 5% discount|\n",
            "|        510|    Spain|Female| 38|     4|      0.0|            1|              1|             0|      118913.53|     1|  130804.88300000002| Apply 5% discount|\n",
            "|        591|    Spain|Female| 39|     3|      0.0|            3|              1|             0|      140469.38|     1|  154516.31800000003| Apply 5% discount|\n",
            "|        511|    Spain|Female| 66|     4|      0.0|            1|              1|             0|        1643.11|     1|            1807.421| Apply 1% discount|\n",
            "|        750|    Spain|  Male| 22|     3|121681.82|            1|              1|             0|      128643.35|     1|  141507.68500000003|Apply 10% discount|\n",
            "|        647|    Spain|Female| 44|     5|      0.0|            3|              1|             1|      174205.22|     1|  191625.74200000003| Apply 5% discount|\n",
            "|        670|    Spain|Female| 65|     1|      0.0|            1|              1|             1|      177655.68|     1|  195421.24800000002| Apply 1% discount|\n",
            "|        622|    Spain|Female| 46|     4|107073.27|            2|              1|             1|       30984.59|     1|  34083.049000000006| Apply 5% discount|\n",
            "|        584|    Spain|Female| 48|     2| 213146.2|            1|              1|             0|       75161.25|     1|           82677.375| Apply 5% discount|\n",
            "|        579|    Spain|Female| 35|     1|129490.36|            2|              0|             1|        8590.83|     1|            9449.913| Apply 5% discount|\n",
            "|        793|    Spain|  Male| 52|     2|      0.0|            1|              1|             0|      159123.82|     1|  175036.20200000002| Apply 1% discount|\n",
            "|        706|    Spain|  Male| 57|     7|      0.0|            1|              1|             0|       17941.16|     1|           19735.276| Apply 1% discount|\n",
            "|        683|    Spain|  Male| 29|     0|133702.89|            1|              1|             0|       55582.54|     1|   61140.79400000001|Apply 10% discount|\n",
            "|        667|    Spain|Female| 39|     2|      0.0|            2|              1|             0|       40721.24|     1|           44793.364| Apply 5% discount|\n",
            "|        516|    Spain|  Male| 50|     5|      0.0|            1|              0|             1|      146145.93|     1|  160760.52300000002| Apply 1% discount|\n",
            "|        608|    Spain|Female| 41|     3| 89763.84|            1|              0|             0|      199304.74|     1|          219235.214| Apply 5% discount|\n",
            "|        549|    Spain|Female| 39|     7|      0.0|            1|              0|             0|       81259.25|     1|           89385.175| Apply 5% discount|\n",
            "|        750|    Spain|Female| 34|     9|112822.26|            1|              0|             0|      150401.53|     1|  165441.68300000002|Apply 10% discount|\n",
            "|        687|    Spain|Female| 44|     7|      0.0|            3|              1|             0|      155853.52|     1|          171438.872| Apply 5% discount|\n",
            "|        749|   France|  Male| 40|     1|139290.41|            1|              1|             0|      182855.42|     1|  201140.96200000003| Apply 5% discount|\n",
            "+-----------+---------+------+---+------+---------+-------------+---------------+--------------+---------------+------+--------------------+------------------+\n",
            "only showing top 20 rows\n",
            "\n"
          ]
        }
      ]
    },
    {
      "cell_type": "code",
      "source": [
        "# It's also important to be aware of any null values in you dataset\n",
        "# In Pyspark we can import the functions module and use the `isnan` function to find any NaNs\n",
        "from pyspark.sql import functions as F\n",
        "\n",
        "data.filter(F.isnan(\"EstimatedSalary\")).show()"
      ],
      "metadata": {
        "id": "8410itiz_Euy",
        "colab": {
          "base_uri": "https://localhost:8080/"
        },
        "outputId": "9cda9caf-afe7-4771-eb06-f75abd3506db"
      },
      "execution_count": null,
      "outputs": [
        {
          "output_type": "stream",
          "name": "stdout",
          "text": [
            "+-----------+---------+------+---+------+-------+-------------+---------------+--------------+---------------+------+--------------------+-------------+\n",
            "|CreditScore|Geography|Gender|Age|Tenure|Balance|NumOfProducts|has_credit_card|IsActiveMember|EstimatedSalary|Exited|est_salary_next_year|Age_discounts|\n",
            "+-----------+---------+------+---+------+-------+-------------+---------------+--------------+---------------+------+--------------------+-------------+\n",
            "+-----------+---------+------+---+------+-------+-------------+---------------+--------------+---------------+------+--------------------+-------------+\n",
            "\n"
          ]
        }
      ]
    },
    {
      "cell_type": "code",
      "source": [
        "# Suppose we want to filter out all active female members who are older than 65\n",
        "# We can do this easily by breaking down each condition\n",
        "\n",
        "c1 = (data.IsActiveMember == 1)   # Active member\n",
        "c2 = (data.Gender == 'Female')    # Female\n",
        "c3 = (data.Age >= 65)             # Older than 65 (inclusive)\n",
        "\n",
        "data.filter((c1) & (c2) & (c3)).show()"
      ],
      "metadata": {
        "id": "hCTwj8u7WD5f",
        "colab": {
          "base_uri": "https://localhost:8080/"
        },
        "outputId": "91c19205-fd7c-420d-c50e-ed8f62505d84"
      },
      "execution_count": null,
      "outputs": [
        {
          "output_type": "stream",
          "name": "stdout",
          "text": [
            "+-----------+---------+------+---+------+---------+-------------+---------------+--------------+---------------+------+--------------------+-----------------+\n",
            "|CreditScore|Geography|Gender|Age|Tenure|  Balance|NumOfProducts|has_credit_card|IsActiveMember|EstimatedSalary|Exited|est_salary_next_year|    Age_discounts|\n",
            "+-----------+---------+------+---+------+---------+-------------+---------------+--------------+---------------+------+--------------------+-----------------+\n",
            "|        670|    Spain|Female| 65|     1|      0.0|            1|              1|             1|      177655.68|     1|  195421.24800000002|Apply 1% discount|\n",
            "|        732|    Spain|Female| 69|     9|137453.43|            1|              0|             1|      110932.24|     1|  122025.46400000002|Apply 1% discount|\n",
            "|        546|  Germany|Female| 74|     8|114888.74|            2|              1|             1|       66732.63|     1|   73405.89300000001|Apply 1% discount|\n",
            "|        491|  Germany|Female| 68|     1| 95039.12|            1|              0|             1|      116471.14|     1|  128118.25400000002|Apply 1% discount|\n",
            "|        645|   France|Female| 68|     9|      0.0|            4|              1|             1|      176353.87|     1|          193989.257|Apply 1% discount|\n",
            "|        491|   France|Female| 68|     3|107571.61|            1|              0|             1|      113695.99|    -1|  125065.58900000002|Apply 1% discount|\n",
            "|        803|   France|Female| 65|     2|151659.52|            2|              0|             1|        6930.17|    -1|   7623.187000000001|Apply 1% discount|\n",
            "|        511|  Germany|Female| 75|     9|105609.17|            1|              0|             1|      105425.18|    -1|          115967.698|Apply 1% discount|\n",
            "|        576|  Germany|Female| 71|     6|140273.47|            1|              1|             1|      193135.25|     1|  212448.77500000002|Apply 1% discount|\n",
            "|        850|  Germany|Female| 66|     0|127120.62|            1|              0|             1|      118929.64|     1|          130822.604|Apply 1% discount|\n",
            "|        808|    Spain|Female| 67|    10|124577.15|            1|              0|             1|       169894.4|    -1|           186883.84|Apply 1% discount|\n",
            "|        718|   France|Female| 67|     7|      0.0|            3|              1|             1|       82782.08|    -1|   91060.28800000002|Apply 1% discount|\n",
            "|        696|  Germany|Female| 66|     7|119499.42|            2|              1|             1|       174027.3|    -1|           191430.03|Apply 1% discount|\n",
            "|        818|  Germany|Female| 72|     8|135290.42|            2|              1|             1|       63729.72|    -1|   70102.69200000001|Apply 1% discount|\n",
            "|        624|   France|Female| 71|     4|170252.05|            3|              1|             1|       73679.59|     1|           81047.549|Apply 1% discount|\n",
            "|        640|   France|Female| 67|     3|      0.0|            1|              0|             1|       42964.63|    -1|           47261.093|Apply 1% discount|\n",
            "|        430|  Germany|Female| 66|     6|135392.31|            2|              1|             1|      172852.06|     1|          190137.266|Apply 1% discount|\n",
            "|        806|   France|Female| 67|     1|      0.0|            2|              0|             1|      103945.58|    -1|          114340.138|Apply 1% discount|\n",
            "|        573|    Spain|Female| 72|     8| 98765.84|            1|              1|             1|       96015.53|    -1|  105617.08300000001|Apply 1% discount|\n",
            "|        653|   France|Female| 74|     0|121276.32|            1|              1|             1|      160348.31|    -1|          176383.141|Apply 1% discount|\n",
            "+-----------+---------+------+---+------+---------+-------------+---------------+--------------+---------------+------+--------------------+-----------------+\n",
            "only showing top 20 rows\n",
            "\n"
          ]
        }
      ]
    },
    {
      "cell_type": "code",
      "source": [
        "# Suppose we want to sort the table by credit score and then by balance\n",
        "# We can do this using the `sort()` function (by default, set to ascending)\n",
        "data.sort(data.CreditScore, data.Balance).show()\n",
        "\n",
        "# However, we can also sort by descending using `desc()`\n",
        "data.sort(data.CreditScore.desc(), data.Balance.desc()).show()\n",
        "\n",
        "# We can sort by ascending AND descending in different columns as well\n",
        "data.sort(data.CreditScore.asc(), data.Balance.desc()).show()"
      ],
      "metadata": {
        "id": "dwTLjcPokYrz",
        "colab": {
          "base_uri": "https://localhost:8080/"
        },
        "outputId": "fc4e46bf-8bb2-419d-c214-d4a8a8b54676"
      },
      "execution_count": null,
      "outputs": [
        {
          "output_type": "stream",
          "name": "stdout",
          "text": [
            "+-----------+---------+------+---+------+---------+-------------+---------------+--------------+---------------+------+--------------------+------------------+\n",
            "|CreditScore|Geography|Gender|Age|Tenure|  Balance|NumOfProducts|has_credit_card|IsActiveMember|EstimatedSalary|Exited|est_salary_next_year|     Age_discounts|\n",
            "+-----------+---------+------+---+------+---------+-------------+---------------+--------------+---------------+------+--------------------+------------------+\n",
            "|        350|   France|Female| 60|     3|      0.0|            1|              0|             0|      113796.15|     1|          125175.765| Apply 1% discount|\n",
            "|        350|   France|  Male| 51|    10|      0.0|            1|              1|             1|      125823.79|     1|          138406.169| Apply 1% discount|\n",
            "|        350|  Germany|  Male| 39|     0| 109733.2|            2|              0|             0|      123602.11|     1|  135962.32100000003| Apply 5% discount|\n",
            "|        350|   France|Female| 40|     0|111098.85|            1|              1|             1|      172321.21|     1|          189553.331| Apply 5% discount|\n",
            "|        350|    Spain|  Male| 54|     1|152677.48|            1|              1|             1|      191973.49|     1|          211170.839| Apply 1% discount|\n",
            "|        351|  Germany|Female| 57|     4|163146.46|            1|              1|             0|      169621.69|     1|  186583.85900000003| Apply 1% discount|\n",
            "|        358|    Spain|Female| 52|     8|143542.36|            3|              1|             0|      141959.11|     1|          156155.021| Apply 1% discount|\n",
            "|        359|   France|Female| 44|     6|128747.69|            1|              1|             0|      146955.71|     1|  161651.28100000002| Apply 5% discount|\n",
            "|        363|    Spain|Female| 28|     6|146098.43|            3|              1|             0|      100615.14|     1|  110676.65400000001|Apply 10% discount|\n",
            "|        365|  Germany|  Male| 30|     0|127760.07|            1|              1|             0|       81537.85|     1|   89691.63500000001|Apply 10% discount|\n",
            "|        367|    Spain|  Male| 42|     6| 93608.28|            1|              1|             0|      168816.73|     1|  185698.40300000002| Apply 5% discount|\n",
            "|        373|   France|  Male| 42|     7|      0.0|            1|              1|             0|       77786.37|     1|           85565.007| Apply 5% discount|\n",
            "|        376|   France|Female| 46|     6|      0.0|            1|              1|             0|      157333.69|     1|          173067.059| Apply 5% discount|\n",
            "|        376|  Germany|Female| 29|     4|115046.74|            4|              1|             0|      119346.88|     1|  131281.56800000003|Apply 10% discount|\n",
            "|        382|    Spain|  Male| 36|     0|      0.0|            1|              1|             1|      179540.73|     1|          197494.803| Apply 5% discount|\n",
            "|        383|    Spain|Female| 48|     8| 95808.19|            1|              0|             0|      137702.01|     1|          151472.211| Apply 5% discount|\n",
            "|        386|    Spain|Female| 53|     1|131955.07|            1|              1|             1|       62514.65|     1|           68766.115| Apply 1% discount|\n",
            "|        395|  Germany|Female| 34|     5|106011.59|            1|              1|             1|       17376.57|     1|  19114.227000000003|Apply 10% discount|\n",
            "|        399|  Germany|  Male| 46|     2|127655.22|            1|              1|             0|      139994.68|     1|  153994.14800000002| Apply 5% discount|\n",
            "|        401|  Germany|  Male| 48|     8|128140.17|            1|              1|             0|      175753.55|     1|          193328.905| Apply 5% discount|\n",
            "+-----------+---------+------+---+------+---------+-------------+---------------+--------------+---------------+------+--------------------+------------------+\n",
            "only showing top 20 rows\n",
            "\n",
            "+-----------+---------+------+---+------+---------+-------------+---------------+--------------+---------------+------+--------------------+------------------+\n",
            "|CreditScore|Geography|Gender|Age|Tenure|  Balance|NumOfProducts|has_credit_card|IsActiveMember|EstimatedSalary|Exited|est_salary_next_year|     Age_discounts|\n",
            "+-----------+---------+------+---+------+---------+-------------+---------------+--------------+---------------+------+--------------------+------------------+\n",
            "|        850|   France|Female| 35|     1|211774.31|            1|              1|             0|      188574.12|     1|          207431.532| Apply 5% discount|\n",
            "|        850|    Spain|  Male| 39|     6|206014.94|            2|              0|             1|       42774.84|     1|           47052.324| Apply 5% discount|\n",
            "|        850|    Spain|Female| 45|     5| 174088.3|            4|              1|             0|        5669.31|     1|   6236.241000000001| Apply 5% discount|\n",
            "|        850|   France|  Male| 63|     8|169832.57|            1|              0|             0|      184107.26|     1|  202517.98600000003| Apply 1% discount|\n",
            "|        850|  Germany|  Male| 56|     1|169743.83|            1|              0|             0|       155850.4|     1|           171435.44| Apply 1% discount|\n",
            "|        850|   France|  Male| 68|     5| 169445.4|            1|              1|             1|      186335.07|    -1|  204968.57700000002| Apply 1% discount|\n",
            "|        850|  Germany|Female| 36|     3|169025.83|            1|              1|             0|      174235.06|    -1|  191658.56600000002| Apply 5% discount|\n",
            "|        850|  Germany|Female| 31|     4|164672.66|            1|              0|             1|        61936.1|    -1|            68129.71|Apply 10% discount|\n",
            "|        850|   France|Female| 46|     2|157866.77|            1|              1|             1|       18986.12|    -1|           20884.732| Apply 5% discount|\n",
            "|        850|   France|  Male| 58|     8|156652.13|            1|              0|             0|       25899.21|     1|           28489.131| Apply 1% discount|\n",
            "|        850|   France|  Male| 32|     4|156001.68|            2|              1|             1|      151677.31|    -1|          166845.041|Apply 10% discount|\n",
            "|        850|  Germany|  Male| 29|     1|154640.41|            1|              1|             1|      164039.51|    -1|  180443.46100000004|Apply 10% discount|\n",
            "|        850|   France|  Male| 30|    10|153972.89|            2|              1|             0|       62811.03|    -1|           69092.133|Apply 10% discount|\n",
            "|        850|  Germany|  Male| 28|     4|147972.19|            1|              1|             0|       60708.72|     1|           66779.592|Apply 10% discount|\n",
            "|        850|  Germany|  Male| 38|     5|146756.68|            1|              1|             0|       78268.61|    -1|           86095.471| Apply 5% discount|\n",
            "|        850|  Germany|  Male| 31|     4| 146587.3|            1|              1|             1|       89874.82|    -1|   98862.30200000001|Apply 10% discount|\n",
            "|        850|  Germany|Female| 36|     6|143644.16|            1|              1|             0|       22102.25|     1|  24312.475000000002| Apply 5% discount|\n",
            "|        850|   France|Female| 47|     9|137301.87|            1|              1|             0|       44351.77|    -1|           48786.947| Apply 5% discount|\n",
            "|        850|  Germany|Female| 36|     0|136980.23|            2|              1|             1|       99019.65|    -1|          108921.615| Apply 5% discount|\n",
            "|        850|  Germany|Female| 47|    10|134381.52|            1|              0|             0|       26812.89|     1|           29494.179| Apply 5% discount|\n",
            "+-----------+---------+------+---+------+---------+-------------+---------------+--------------+---------------+------+--------------------+------------------+\n",
            "only showing top 20 rows\n",
            "\n",
            "+-----------+---------+------+---+------+---------+-------------+---------------+--------------+---------------+------+--------------------+------------------+\n",
            "|CreditScore|Geography|Gender|Age|Tenure|  Balance|NumOfProducts|has_credit_card|IsActiveMember|EstimatedSalary|Exited|est_salary_next_year|     Age_discounts|\n",
            "+-----------+---------+------+---+------+---------+-------------+---------------+--------------+---------------+------+--------------------+------------------+\n",
            "|        350|    Spain|  Male| 54|     1|152677.48|            1|              1|             1|      191973.49|     1|          211170.839| Apply 1% discount|\n",
            "|        350|   France|Female| 40|     0|111098.85|            1|              1|             1|      172321.21|     1|          189553.331| Apply 5% discount|\n",
            "|        350|  Germany|  Male| 39|     0| 109733.2|            2|              0|             0|      123602.11|     1|  135962.32100000003| Apply 5% discount|\n",
            "|        350|   France|Female| 60|     3|      0.0|            1|              0|             0|      113796.15|     1|          125175.765| Apply 1% discount|\n",
            "|        350|   France|  Male| 51|    10|      0.0|            1|              1|             1|      125823.79|     1|          138406.169| Apply 1% discount|\n",
            "|        351|  Germany|Female| 57|     4|163146.46|            1|              1|             0|      169621.69|     1|  186583.85900000003| Apply 1% discount|\n",
            "|        358|    Spain|Female| 52|     8|143542.36|            3|              1|             0|      141959.11|     1|          156155.021| Apply 1% discount|\n",
            "|        359|   France|Female| 44|     6|128747.69|            1|              1|             0|      146955.71|     1|  161651.28100000002| Apply 5% discount|\n",
            "|        363|    Spain|Female| 28|     6|146098.43|            3|              1|             0|      100615.14|     1|  110676.65400000001|Apply 10% discount|\n",
            "|        365|  Germany|  Male| 30|     0|127760.07|            1|              1|             0|       81537.85|     1|   89691.63500000001|Apply 10% discount|\n",
            "|        367|    Spain|  Male| 42|     6| 93608.28|            1|              1|             0|      168816.73|     1|  185698.40300000002| Apply 5% discount|\n",
            "|        373|   France|  Male| 42|     7|      0.0|            1|              1|             0|       77786.37|     1|           85565.007| Apply 5% discount|\n",
            "|        376|  Germany|Female| 29|     4|115046.74|            4|              1|             0|      119346.88|     1|  131281.56800000003|Apply 10% discount|\n",
            "|        376|   France|Female| 46|     6|      0.0|            1|              1|             0|      157333.69|     1|          173067.059| Apply 5% discount|\n",
            "|        382|    Spain|  Male| 36|     0|      0.0|            1|              1|             1|      179540.73|     1|          197494.803| Apply 5% discount|\n",
            "|        383|    Spain|Female| 48|     8| 95808.19|            1|              0|             0|      137702.01|     1|          151472.211| Apply 5% discount|\n",
            "|        386|    Spain|Female| 53|     1|131955.07|            1|              1|             1|       62514.65|     1|           68766.115| Apply 1% discount|\n",
            "|        395|  Germany|Female| 34|     5|106011.59|            1|              1|             1|       17376.57|     1|  19114.227000000003|Apply 10% discount|\n",
            "|        399|  Germany|  Male| 46|     2|127655.22|            1|              1|             0|      139994.68|     1|  153994.14800000002| Apply 5% discount|\n",
            "|        401|  Germany|  Male| 48|     8|128140.17|            1|              1|             0|      175753.55|     1|          193328.905| Apply 5% discount|\n",
            "+-----------+---------+------+---+------+---------+-------------+---------------+--------------+---------------+------+--------------------+------------------+\n",
            "only showing top 20 rows\n",
            "\n"
          ]
        }
      ]
    },
    {
      "cell_type": "code",
      "source": [
        "# Now, suppose we are interested in filtering the data to view all active\n",
        "# female members who are older than 65 and then sorting amongst them to find\n",
        "# the member with the highest credit score and the lowest balance\n",
        "\n",
        "data.filter((c1) & (c2) & (c3)) \\\n",
        ".sort(data.CreditScore.desc(), data.Balance.asc()) \\\n",
        ".show()"
      ],
      "metadata": {
        "id": "7K9m-0_lA0CI",
        "colab": {
          "base_uri": "https://localhost:8080/"
        },
        "outputId": "5d565f81-90f5-4cd6-8d38-199a27e27a81"
      },
      "execution_count": null,
      "outputs": [
        {
          "output_type": "stream",
          "name": "stdout",
          "text": [
            "+-----------+---------+------+---+------+---------+-------------+---------------+--------------+---------------+------+--------------------+-----------------+\n",
            "|CreditScore|Geography|Gender|Age|Tenure|  Balance|NumOfProducts|has_credit_card|IsActiveMember|EstimatedSalary|Exited|est_salary_next_year|    Age_discounts|\n",
            "+-----------+---------+------+---+------+---------+-------------+---------------+--------------+---------------+------+--------------------+-----------------+\n",
            "|        850|   France|Female| 81|     1|      0.0|            2|              1|             1|       59568.24|    -1|  65525.064000000006|Apply 1% discount|\n",
            "|        850|   France|Female| 71|     4|      0.0|            2|              1|             1|      107236.87|    -1|          117960.557|Apply 1% discount|\n",
            "|        850|  Germany|Female| 66|     0|127120.62|            1|              0|             1|      118929.64|     1|          130822.604|Apply 1% discount|\n",
            "|        818|  Germany|Female| 72|     8|135290.42|            2|              1|             1|       63729.72|    -1|   70102.69200000001|Apply 1% discount|\n",
            "|        814|    Spain|Female| 72|     2|      0.0|            2|              0|             1|      130853.03|    -1|          143938.333|Apply 1% discount|\n",
            "|        808|    Spain|Female| 67|    10|124577.15|            1|              0|             1|       169894.4|    -1|           186883.84|Apply 1% discount|\n",
            "|        806|   France|Female| 67|     1|      0.0|            2|              0|             1|      103945.58|    -1|          114340.138|Apply 1% discount|\n",
            "|        803|   France|Female| 65|     2|151659.52|            2|              0|             1|        6930.17|    -1|   7623.187000000001|Apply 1% discount|\n",
            "|        792|   France|Female| 70|     3|      0.0|            2|              1|             1|      172240.27|    -1|          189464.297|Apply 1% discount|\n",
            "|        782|   France|Female| 70|     7| 97072.42|            1|              0|             1|      131177.22|    -1|          144294.942|Apply 1% discount|\n",
            "|        775|  Germany|Female| 74|     0| 161371.5|            1|              1|             1|      134869.93|    -1|          148356.923|Apply 1% discount|\n",
            "|        755|   France|Female| 78|     5|121206.96|            1|              1|             1|       76016.49|    -1|   83618.13900000001|Apply 1% discount|\n",
            "|        738|   France|Female| 67|     1|130652.52|            1|              0|             1|       22762.23|    -1|           25038.453|Apply 1% discount|\n",
            "|        737|   France|Female| 70|     9| 87542.89|            2|              1|             1|       42576.86|    -1|           46834.546|Apply 1% discount|\n",
            "|        732|    Spain|Female| 69|     9|137453.43|            1|              0|             1|      110932.24|     1|  122025.46400000002|Apply 1% discount|\n",
            "|        728|   France|Female| 69|     1|      0.0|            2|              1|             1|      131804.86|    -1|          144985.346|Apply 1% discount|\n",
            "|        724|   France|Female| 69|     5|117866.92|            1|              1|             1|       62280.91|    -1|           68509.001|Apply 1% discount|\n",
            "|        718|   France|Female| 67|     7|      0.0|            3|              1|             1|       82782.08|    -1|   91060.28800000002|Apply 1% discount|\n",
            "|        711|   France|Female| 81|     6|      0.0|            2|              1|             1|       72276.24|    -1|   79503.86400000002|Apply 1% discount|\n",
            "|        708|   France|Female| 67|     1|      0.0|            2|              0|             1|        3837.08|    -1|  4220.7880000000005|Apply 1% discount|\n",
            "+-----------+---------+------+---+------+---------+-------------+---------------+--------------+---------------+------+--------------------+-----------------+\n",
            "only showing top 20 rows\n",
            "\n"
          ]
        }
      ]
    },
    {
      "cell_type": "markdown",
      "source": [
        "# Groupbys and functions\n",
        "\n",
        "Similar to sql, Pyspark provides a way to run aggregation functions on groups of your data e.g. Geography or Gender.\n",
        "\n",
        "[Check out the groupby documentation for more!](https://sparkbyexamples.com/pyspark/pyspark-groupby-explained-with-example/)"
      ],
      "metadata": {
        "id": "xzcOw7RoyE9N"
      }
    },
    {
      "cell_type": "code",
      "source": [
        "from pyspark.sql import functions as F\n",
        "\n",
        "data.show()"
      ],
      "metadata": {
        "id": "WtKTT4Q5E7Oo",
        "colab": {
          "base_uri": "https://localhost:8080/"
        },
        "outputId": "2e62c615-f117-42a4-f342-ea735fc79fb2"
      },
      "execution_count": null,
      "outputs": [
        {
          "output_type": "stream",
          "name": "stdout",
          "text": [
            "+-----------+---------+------+---+------+---------+-------------+---------------+--------------+---------------+------+--------------------+------------------+\n",
            "|CreditScore|Geography|Gender|Age|Tenure|  Balance|NumOfProducts|has_credit_card|IsActiveMember|EstimatedSalary|Exited|est_salary_next_year|     Age_discounts|\n",
            "+-----------+---------+------+---+------+---------+-------------+---------------+--------------+---------------+------+--------------------+------------------+\n",
            "|        619|   France|Female| 42|     2|      0.0|            1|              1|             1|      101348.88|     1|  111483.76800000001| Apply 5% discount|\n",
            "|        502|   France|Female| 42|     8| 159660.8|            3|              1|             0|      113931.57|     1|  125324.72700000001| Apply 5% discount|\n",
            "|        645|    Spain|  Male| 44|     8|113755.78|            2|              1|             0|      149756.71|     1|          164732.381| Apply 5% discount|\n",
            "|        376|  Germany|Female| 29|     4|115046.74|            4|              1|             0|      119346.88|     1|  131281.56800000003|Apply 10% discount|\n",
            "|        653|  Germany|  Male| 58|     1|132602.88|            1|              1|             0|        5097.67|     1|   5607.437000000001| Apply 1% discount|\n",
            "|        510|    Spain|Female| 38|     4|      0.0|            1|              1|             0|      118913.53|     1|  130804.88300000002| Apply 5% discount|\n",
            "|        591|    Spain|Female| 39|     3|      0.0|            3|              1|             0|      140469.38|     1|  154516.31800000003| Apply 5% discount|\n",
            "|        475|   France|Female| 45|     0|134264.04|            1|              1|             0|       27822.99|     1|  30605.289000000004| Apply 5% discount|\n",
            "|        465|   France|Female| 51|     8|122522.32|            1|              0|             0|      181297.65|     1|          199427.415| Apply 1% discount|\n",
            "|        834|   France|Female| 49|     2|131394.56|            1|              0|             0|      194365.76|     1|  213802.33600000004| Apply 5% discount|\n",
            "|        829|  Germany|Female| 27|     9|112045.67|            1|              1|             1|      119708.21|     1|  131679.03100000002|Apply 10% discount|\n",
            "|        637|  Germany|Female| 39|     9| 137843.8|            1|              1|             1|       117622.8|     1|  129385.08000000002| Apply 5% discount|\n",
            "|        655|  Germany|  Male| 41|     8|125561.97|            1|              0|             0|      164040.94|     1|          180445.034| Apply 5% discount|\n",
            "|        601|  Germany|  Male| 42|     1| 98495.72|            1|              1|             0|       40014.76|     1|  44016.236000000004| Apply 5% discount|\n",
            "|        511|    Spain|Female| 66|     4|      0.0|            1|              1|             0|        1643.11|     1|            1807.421| Apply 1% discount|\n",
            "|        738|  Germany|  Male| 58|     2|133745.44|            4|              1|             0|       28373.86|     1|  31211.246000000003| Apply 1% discount|\n",
            "|        777|   France|Female| 32|     2|      0.0|            1|              1|             0|      136458.19|     1|  150104.00900000002|Apply 10% discount|\n",
            "|        750|    Spain|  Male| 22|     3|121681.82|            1|              1|             0|      128643.35|     1|  141507.68500000003|Apply 10% discount|\n",
            "|        646|   France|Female| 46|     4|      0.0|            3|              1|             0|       93251.42|     1|          102576.562| Apply 5% discount|\n",
            "|        647|    Spain|Female| 44|     5|      0.0|            3|              1|             1|      174205.22|     1|  191625.74200000003| Apply 5% discount|\n",
            "+-----------+---------+------+---+------+---------+-------------+---------------+--------------+---------------+------+--------------------+------------------+\n",
            "only showing top 20 rows\n",
            "\n"
          ]
        }
      ]
    },
    {
      "cell_type": "code",
      "source": [
        "data.groupby(\"Gender\").avg(\"est_salary_next_year\").show()"
      ],
      "metadata": {
        "colab": {
          "base_uri": "https://localhost:8080/"
        },
        "id": "EyCf52HyoA0l",
        "outputId": "80b1068c-5b9a-43ba-eee7-62d250ff0a6b"
      },
      "execution_count": null,
      "outputs": [
        {
          "output_type": "stream",
          "name": "stdout",
          "text": [
            "+------+-------------------------+\n",
            "|Gender|avg(est_salary_next_year)|\n",
            "+------+-------------------------+\n",
            "|Female|       110871.26678407664|\n",
            "|  Male|       109731.17504306036|\n",
            "+------+-------------------------+\n",
            "\n"
          ]
        }
      ]
    },
    {
      "cell_type": "code",
      "source": [
        "data.groupby(\"Geography\").sum(\"NumOfProducts\").show()"
      ],
      "metadata": {
        "colab": {
          "base_uri": "https://localhost:8080/"
        },
        "id": "Fa8meUi6ckwZ",
        "outputId": "ddefd278-4235-419f-f92d-171cd8304b1b"
      },
      "execution_count": null,
      "outputs": [
        {
          "output_type": "stream",
          "name": "stdout",
          "text": [
            "+---------+------------------+\n",
            "|Geography|sum(NumOfProducts)|\n",
            "+---------+------------------+\n",
            "|  Germany|              2150|\n",
            "|   France|              3648|\n",
            "|    Spain|              1786|\n",
            "+---------+------------------+\n",
            "\n"
          ]
        }
      ]
    },
    {
      "cell_type": "code",
      "source": [
        "# But how do you run multiple groupbys at the same time...\n",
        "data.groupby(\"Geography\") \\\n",
        "    .agg(F.sum(\"NumOfProducts\").alias(\"NumOfProducts_summed\"),\n",
        "         F.avg(\"NumOfProducts\").alias(\"Avgerge_NumOfProducts\"),\n",
        "         F.avg(\"EstimatedSalary\").alias(\"Max_EstimatedSalary\")) \\\n",
        "    .show()"
      ],
      "metadata": {
        "colab": {
          "base_uri": "https://localhost:8080/"
        },
        "id": "sB79wYs2od-L",
        "outputId": "13009d08-af47-41fa-93ad-087569a13735"
      },
      "execution_count": null,
      "outputs": [
        {
          "output_type": "stream",
          "name": "stdout",
          "text": [
            "+---------+--------------------+---------------------+-------------------+\n",
            "|Geography|NumOfProducts_summed|Avgerge_NumOfProducts|Max_EstimatedSalary|\n",
            "+---------+--------------------+---------------------+-------------------+\n",
            "|  Germany|                2150|   1.4920194309507286|  98745.84448993752|\n",
            "|   France|                3648|   1.5238095238095237| 100638.02375104427|\n",
            "|    Spain|                1786|   1.5330472103004291| 101325.59145922742|\n",
            "+---------+--------------------+---------------------+-------------------+\n",
            "\n"
          ]
        }
      ]
    },
    {
      "cell_type": "markdown",
      "source": [
        "# Joins\n",
        "[See the docs for more!](https://sparkbyexamples.com/pyspark/pyspark-join-explained-with-examples/)"
      ],
      "metadata": {
        "id": "KnZw3EaprI4B"
      }
    },
    {
      "cell_type": "code",
      "source": [
        "#@title Venn Diagram of Join types {display-mode: \"form\"}\n",
        "from IPython.display import Image\n",
        "Image(\"https://docs.trifacta.com/download/attachments/160412683/JoinVennDiagram.png\")"
      ],
      "metadata": {
        "colab": {
          "base_uri": "https://localhost:8080/",
          "height": 491
        },
        "id": "odO9Yo7seL5Q",
        "outputId": "fe63f10e-643e-4126-9180-feb51fc8a382"
      },
      "execution_count": null,
      "outputs": [
        {
          "output_type": "execute_result",
          "data": {
            "text/plain": [
              "<IPython.core.display.Image object>"
            ],
            "image/png": "[encoded data removed]"
          },
          "metadata": {},
          "execution_count": 34
        }
      ]
    },
    {
      "cell_type": "code",
      "source": [
        "movies = spark.createDataFrame(pd.read_csv(\"https://github.com/UNSW-Data-Science-Society/Pyspark-Workshop/raw/main/movies.csv\"))\n",
        "movies.show()"
      ],
      "metadata": {
        "colab": {
          "base_uri": "https://localhost:8080/"
        },
        "id": "BtouywtynKGi",
        "outputId": "ce21338f-4431-4439-8ec5-75fe69d69474"
      },
      "execution_count": null,
      "outputs": [
        {
          "output_type": "stream",
          "name": "stdout",
          "text": [
            "+-------+--------------------+--------------------+\n",
            "|movieId|               title|              genres|\n",
            "+-------+--------------------+--------------------+\n",
            "|      1|    Toy Story (1995)|Adventure|Animati...|\n",
            "|      2|      Jumanji (1995)|Adventure|Childre...|\n",
            "|      3|Grumpier Old Men ...|      Comedy|Romance|\n",
            "|      4|Waiting to Exhale...|Comedy|Drama|Romance|\n",
            "|      5|Father of the Bri...|              Comedy|\n",
            "|      6|         Heat (1995)|Action|Crime|Thri...|\n",
            "|      7|      Sabrina (1995)|      Comedy|Romance|\n",
            "|      8| Tom and Huck (1995)|  Adventure|Children|\n",
            "|      9| Sudden Death (1995)|              Action|\n",
            "|     10|    GoldenEye (1995)|Action|Adventure|...|\n",
            "|     11|American Presiden...|Comedy|Drama|Romance|\n",
            "|     12|Dracula: Dead and...|       Comedy|Horror|\n",
            "|     13|        Balto (1995)|Adventure|Animati...|\n",
            "|     14|        Nixon (1995)|               Drama|\n",
            "|     15|Cutthroat Island ...|Action|Adventure|...|\n",
            "|     16|       Casino (1995)|         Crime|Drama|\n",
            "|     17|Sense and Sensibi...|       Drama|Romance|\n",
            "|     18|   Four Rooms (1995)|              Comedy|\n",
            "|     19|Ace Ventura: When...|              Comedy|\n",
            "|     20|  Money Train (1995)|Action|Comedy|Cri...|\n",
            "+-------+--------------------+--------------------+\n",
            "only showing top 20 rows\n",
            "\n"
          ]
        }
      ]
    },
    {
      "cell_type": "code",
      "source": [
        "ratings = spark.createDataFrame(pd.read_csv(\"https://github.com/UNSW-Data-Science-Society/Pyspark-Workshop/raw/main/ratings.csv\"))\n",
        "ratings.show()"
      ],
      "metadata": {
        "colab": {
          "base_uri": "https://localhost:8080/"
        },
        "id": "SHua3ZNenQoM",
        "outputId": "9fea068c-32f9-4e02-bbbd-edd9cc5bee03"
      },
      "execution_count": null,
      "outputs": [
        {
          "output_type": "stream",
          "name": "stdout",
          "text": [
            "+------+-------+------+----------+\n",
            "|userId|movieId|rating| timestamp|\n",
            "+------+-------+------+----------+\n",
            "|     1|     16|   4.0|1217897793|\n",
            "|     1|     24|   1.5|1217895807|\n",
            "|     1|     32|   4.0|1217896246|\n",
            "|     1|     47|   4.0|1217896556|\n",
            "|     1|     50|   4.0|1217896523|\n",
            "|     1|    110|   4.0|1217896150|\n",
            "|     1|    150|   3.0|1217895940|\n",
            "|     1|    161|   4.0|1217897864|\n",
            "|     1|    165|   3.0|1217897135|\n",
            "|     1|    204|   0.5|1217895786|\n",
            "|     1|    223|   4.0|1217897795|\n",
            "|     1|    256|   0.5|1217895764|\n",
            "|     1|    260|   4.5|1217895864|\n",
            "|     1|    261|   1.5|1217895750|\n",
            "|     1|    277|   0.5|1217895772|\n",
            "|     1|    296|   4.0|1217896125|\n",
            "|     1|    318|   4.0|1217895860|\n",
            "|     1|    349|   4.5|1217897058|\n",
            "|     1|    356|   3.0|1217896231|\n",
            "|     1|    377|   2.5|1217896373|\n",
            "+------+-------+------+----------+\n",
            "only showing top 20 rows\n",
            "\n"
          ]
        }
      ]
    },
    {
      "cell_type": "code",
      "source": [
        "# Joining in Pyspark is easy!\n",
        "# All we have to do is specify the primary key to join on and the method to join!\n",
        "movies_and_ratings = movies.join(ratings, on=\"movieId\", how=\"left\")\n",
        "movies_and_ratings.show()"
      ],
      "metadata": {
        "colab": {
          "base_uri": "https://localhost:8080/"
        },
        "id": "27s1T7czp0LL",
        "outputId": "624f1689-73ce-4fb3-d6bd-f1f64e56789a"
      },
      "execution_count": null,
      "outputs": [
        {
          "output_type": "stream",
          "name": "stdout",
          "text": [
            "+-------+--------------------+--------------------+------+------+----------+\n",
            "|movieId|               title|              genres|userId|rating| timestamp|\n",
            "+-------+--------------------+--------------------+------+------+----------+\n",
            "|     26|      Othello (1995)|               Drama|    47|   3.0| 853695250|\n",
            "|     26|      Othello (1995)|               Drama|   165|   4.0| 862302232|\n",
            "|     26|      Othello (1995)|               Drama|   220|   4.0|1112608851|\n",
            "|     26|      Othello (1995)|               Drama|   226|   4.0| 857755685|\n",
            "|     26|      Othello (1995)|               Drama|   307|   3.0| 831901363|\n",
            "|     26|      Othello (1995)|               Drama|   310|   4.0|1092228014|\n",
            "|     26|      Othello (1995)|               Drama|   311|   4.0| 850408346|\n",
            "|     26|      Othello (1995)|               Drama|   331|   4.0|1138987110|\n",
            "|     26|      Othello (1995)|               Drama|   354|   3.0|1017759082|\n",
            "|     26|      Othello (1995)|               Drama|   422|   3.5|1071634326|\n",
            "|     26|      Othello (1995)|               Drama|   458|   4.0| 944392131|\n",
            "|     26|      Othello (1995)|               Drama|   558|   4.0| 841217370|\n",
            "|     26|      Othello (1995)|               Drama|   579|   4.0| 881064683|\n",
            "|     26|      Othello (1995)|               Drama|   613|   4.0| 833195560|\n",
            "|     29|City of Lost Chil...|Adventure|Drama|F...|    16|   5.0| 849188291|\n",
            "|     29|City of Lost Chil...|Adventure|Drama|F...|    47|   5.0| 843154525|\n",
            "|     29|City of Lost Chil...|Adventure|Drama|F...|    62|   5.0|1269754698|\n",
            "|     29|City of Lost Chil...|Adventure|Drama|F...|    66|   2.0| 961686122|\n",
            "|     29|City of Lost Chil...|Adventure|Drama|F...|   128|   2.5|1282437421|\n",
            "|     29|City of Lost Chil...|Adventure|Drama|F...|   130|   5.0| 941882507|\n",
            "+-------+--------------------+--------------------+------+------+----------+\n",
            "only showing top 20 rows\n",
            "\n"
          ]
        }
      ]
    },
    {
      "cell_type": "code",
      "source": [
        "movies_and_ratings.count()"
      ],
      "metadata": {
        "colab": {
          "base_uri": "https://localhost:8080/"
        },
        "id": "OOuki24XqLi6",
        "outputId": "33ffec24-f8b3-4e70-80f1-9673a511c860"
      },
      "execution_count": null,
      "outputs": [
        {
          "output_type": "execute_result",
          "data": {
            "text/plain": [
              "105343"
            ]
          },
          "metadata": {},
          "execution_count": 38
        }
      ]
    },
    {
      "cell_type": "code",
      "source": [
        "# Do any movies have any missing ratings?\n",
        "movies_and_ratings.filter(F.isnan(\"rating\")).show()"
      ],
      "metadata": {
        "colab": {
          "base_uri": "https://localhost:8080/"
        },
        "id": "LGuES9oUqUad",
        "outputId": "493d772f-1240-4bc9-d770-38551d241d92"
      },
      "execution_count": null,
      "outputs": [
        {
          "output_type": "stream",
          "name": "stdout",
          "text": [
            "+-------+-----+------+------+------+---------+\n",
            "|movieId|title|genres|userId|rating|timestamp|\n",
            "+-------+-----+------+------+------+---------+\n",
            "+-------+-----+------+------+------+---------+\n",
            "\n"
          ]
        }
      ]
    },
    {
      "cell_type": "markdown",
      "source": [
        "\n",
        "# Temp views and spark.sql\n",
        "\n",
        "`createOrReplaceTempView` creates (or replaces if that view name already exists) a lazily evaluated \"view\" that you can then use like a sql table in Spark SQL. It does not persist to memory unless you cache the dataset that underpins the view.\n"
      ],
      "metadata": {
        "id": "ckenNNe-rjf_"
      }
    },
    {
      "cell_type": "code",
      "source": [
        "spark.catalog.listTables()"
      ],
      "metadata": {
        "id": "bSaFuyjwfOlB",
        "colab": {
          "base_uri": "https://localhost:8080/"
        },
        "outputId": "bbd2de16-388d-4592-e2c1-c47052bc4dda"
      },
      "execution_count": null,
      "outputs": [
        {
          "output_type": "execute_result",
          "data": {
            "text/plain": [
              "[]"
            ]
          },
          "metadata": {},
          "execution_count": 40
        }
      ]
    },
    {
      "cell_type": "code",
      "source": [
        "# Allows us to nickname our table so that we can reference it later using SQL style code\n",
        "dataset_name = data.createOrReplaceTempView(\"mytable\")"
      ],
      "metadata": {
        "id": "lk5YFhMGWvKJ"
      },
      "execution_count": null,
      "outputs": []
    },
    {
      "cell_type": "code",
      "source": [
        "spark.catalog.listTables()"
      ],
      "metadata": {
        "id": "bchUTtFuu1zN",
        "colab": {
          "base_uri": "https://localhost:8080/"
        },
        "outputId": "c6e38fb1-c651-478f-d614-967bfd0345c4"
      },
      "execution_count": null,
      "outputs": [
        {
          "output_type": "execute_result",
          "data": {
            "text/plain": [
              "[Table(name='mytable', database=None, description=None, tableType='TEMPORARY', isTemporary=True)]"
            ]
          },
          "metadata": {},
          "execution_count": 42
        }
      ]
    },
    {
      "cell_type": "code",
      "source": [
        "spark.sql('SELECT * FROM mytable').show(10)"
      ],
      "metadata": {
        "id": "pxUYeuTgW6Zy",
        "colab": {
          "base_uri": "https://localhost:8080/"
        },
        "outputId": "e4a59702-ea37-4405-b318-3a35ff9d078b"
      },
      "execution_count": null,
      "outputs": [
        {
          "output_type": "stream",
          "name": "stdout",
          "text": [
            "+-----------+---------+------+---+------+---------+-------------+---------------+--------------+---------------+------+--------------------+------------------+\n",
            "|CreditScore|Geography|Gender|Age|Tenure|  Balance|NumOfProducts|has_credit_card|IsActiveMember|EstimatedSalary|Exited|est_salary_next_year|     Age_discounts|\n",
            "+-----------+---------+------+---+------+---------+-------------+---------------+--------------+---------------+------+--------------------+------------------+\n",
            "|        619|   France|Female| 42|     2|      0.0|            1|              1|             1|      101348.88|     1|  111483.76800000001| Apply 5% discount|\n",
            "|        502|   France|Female| 42|     8| 159660.8|            3|              1|             0|      113931.57|     1|  125324.72700000001| Apply 5% discount|\n",
            "|        645|    Spain|  Male| 44|     8|113755.78|            2|              1|             0|      149756.71|     1|          164732.381| Apply 5% discount|\n",
            "|        376|  Germany|Female| 29|     4|115046.74|            4|              1|             0|      119346.88|     1|  131281.56800000003|Apply 10% discount|\n",
            "|        653|  Germany|  Male| 58|     1|132602.88|            1|              1|             0|        5097.67|     1|   5607.437000000001| Apply 1% discount|\n",
            "|        510|    Spain|Female| 38|     4|      0.0|            1|              1|             0|      118913.53|     1|  130804.88300000002| Apply 5% discount|\n",
            "|        591|    Spain|Female| 39|     3|      0.0|            3|              1|             0|      140469.38|     1|  154516.31800000003| Apply 5% discount|\n",
            "|        475|   France|Female| 45|     0|134264.04|            1|              1|             0|       27822.99|     1|  30605.289000000004| Apply 5% discount|\n",
            "|        465|   France|Female| 51|     8|122522.32|            1|              0|             0|      181297.65|     1|          199427.415| Apply 1% discount|\n",
            "|        834|   France|Female| 49|     2|131394.56|            1|              0|             0|      194365.76|     1|  213802.33600000004| Apply 5% discount|\n",
            "+-----------+---------+------+---+------+---------+-------------+---------------+--------------+---------------+------+--------------------+------------------+\n",
            "only showing top 10 rows\n",
            "\n"
          ]
        }
      ]
    },
    {
      "cell_type": "code",
      "source": [
        "spark.sql('SELECT Geography, Gender, Age FROM mytable').show(10)"
      ],
      "metadata": {
        "id": "vsOOOoJ1XKcH",
        "colab": {
          "base_uri": "https://localhost:8080/"
        },
        "outputId": "8d322fd8-8847-4128-812e-1090f5f0ec0e"
      },
      "execution_count": null,
      "outputs": [
        {
          "output_type": "stream",
          "name": "stdout",
          "text": [
            "+---------+------+---+\n",
            "|Geography|Gender|Age|\n",
            "+---------+------+---+\n",
            "|   France|Female| 42|\n",
            "|   France|Female| 42|\n",
            "|    Spain|  Male| 44|\n",
            "|  Germany|Female| 29|\n",
            "|  Germany|  Male| 58|\n",
            "|    Spain|Female| 38|\n",
            "|    Spain|Female| 39|\n",
            "|   France|Female| 45|\n",
            "|   France|Female| 51|\n",
            "|   France|Female| 49|\n",
            "+---------+------+---+\n",
            "only showing top 10 rows\n",
            "\n"
          ]
        }
      ]
    },
    {
      "cell_type": "markdown",
      "source": [
        "# Advanced Pyspark concepts\n"
      ],
      "metadata": {
        "id": "Owf5x2rdySgh"
      }
    },
    {
      "cell_type": "markdown",
      "source": [
        "## Caching and Persistence\n",
        "\n",
        "[See the docs for more!](https://sparkbyexamples.com/spark/spark-dataframe-cache-and-persist-explained/)"
      ],
      "metadata": {
        "id": "HWKYgYYSyB4e"
      }
    },
    {
      "cell_type": "markdown",
      "source": [
        "Caching is a technique to optimise queries. It's super helpful when you plan on reusing the same query over and over again...\n",
        "\n",
        "Let's see how it's used below:"
      ],
      "metadata": {
        "id": "SjmWPw42zSQz"
      }
    },
    {
      "cell_type": "code",
      "source": [
        "%%time\n",
        "data.count()"
      ],
      "metadata": {
        "id": "vcyB5obgyKMK",
        "colab": {
          "base_uri": "https://localhost:8080/"
        },
        "outputId": "1bfd17a1-6fd8-47f4-b35f-d0497fde56a4"
      },
      "execution_count": null,
      "outputs": [
        {
          "output_type": "stream",
          "name": "stdout",
          "text": [
            "CPU times: user 5.17 ms, sys: 83 µs, total: 5.25 ms\n",
            "Wall time: 164 ms\n"
          ]
        },
        {
          "output_type": "execute_result",
          "data": {
            "text/plain": [
              "5000"
            ]
          },
          "metadata": {},
          "execution_count": 45
        }
      ]
    },
    {
      "cell_type": "code",
      "source": [
        "%%time\n",
        "data.cache().count()"
      ],
      "metadata": {
        "id": "4jzef0EJy7zk",
        "colab": {
          "base_uri": "https://localhost:8080/"
        },
        "outputId": "9ae0de34-d0f0-4dc4-f23b-152168ac6224"
      },
      "execution_count": null,
      "outputs": [
        {
          "output_type": "stream",
          "name": "stdout",
          "text": [
            "CPU times: user 10.7 ms, sys: 45 µs, total: 10.7 ms\n",
            "Wall time: 623 ms\n"
          ]
        },
        {
          "output_type": "execute_result",
          "data": {
            "text/plain": [
              "5000"
            ]
          },
          "metadata": {},
          "execution_count": 46
        }
      ]
    },
    {
      "cell_type": "code",
      "source": [
        "%%time\n",
        "data.count()"
      ],
      "metadata": {
        "id": "4jt5Wc84zDHC",
        "colab": {
          "base_uri": "https://localhost:8080/"
        },
        "outputId": "008f8778-f71b-4949-c677-54bfd3951d99"
      },
      "execution_count": null,
      "outputs": [
        {
          "output_type": "stream",
          "name": "stdout",
          "text": [
            "CPU times: user 3.58 ms, sys: 1.06 ms, total: 4.63 ms\n",
            "Wall time: 210 ms\n"
          ]
        },
        {
          "output_type": "execute_result",
          "data": {
            "text/plain": [
              "5000"
            ]
          },
          "metadata": {},
          "execution_count": 47
        }
      ]
    },
    {
      "cell_type": "markdown",
      "source": [
        "### Persistence Vs Caching\n",
        "\n",
        "Persistence is very similar to caching with the major difference being that when you cache a result it gets saved to `MEMORY_AND_DISK` whilst with persistence you can save it to some other storage level such as `DISK_ONLY`.\n",
        "\n",
        "### Extra facts\n",
        "\n",
        "Caching and persistence is fault tolerant meaning that if a partition is lost it gets automatically recomputed!!"
      ],
      "metadata": {
        "id": "5vkC-G_00g00"
      }
    },
    {
      "cell_type": "markdown",
      "source": [
        "## Explain Plans & Pyspark under the hood"
      ],
      "metadata": {
        "id": "mOlzFpAgyHWh"
      }
    },
    {
      "cell_type": "markdown",
      "source": [
        "Pyspark provides a really useful and high level api but what happens if we want to look under the hood and see how Pyspark is actually evaluting our sql..."
      ],
      "metadata": {
        "id": "I3XpZSG6zoiC"
      }
    },
    {
      "cell_type": "code",
      "source": [
        "#@title [Bonus] How does spark work under the hood?? {display-mode: \"form\"}\n",
        "from IPython.display import Image\n",
        "Image(\"https://i0.wp.com/blog.knoldus.com/wp-content/uploads/2019/11/Fig-1-Plan-1.jpg\")"
      ],
      "metadata": {
        "colab": {
          "base_uri": "https://localhost:8080/",
          "height": 191
        },
        "id": "Q1_c5wc_rJ3v",
        "outputId": "e471e123-4616-4f03-fe78-e79d3a43bbda"
      },
      "execution_count": null,
      "outputs": [
        {
          "output_type": "execute_result",
          "data": {
            "text/plain": [
              "<IPython.core.display.Image object>"
            ],
            "image/jpeg": "[encoded data removed]"
          },
          "metadata": {},
          "execution_count": 48
        }
      ]
    },
    {
      "cell_type": "code",
      "source": [
        "movies_and_ratings.explain(True)"
      ],
      "metadata": {
        "colab": {
          "base_uri": "https://localhost:8080/"
        },
        "id": "R9Lx08g-Qv2G",
        "outputId": "20cc1204-0f13-41d8-b276-62a1a6666079"
      },
      "execution_count": null,
      "outputs": [
        {
          "output_type": "stream",
          "name": "stdout",
          "text": [
            "== Parsed Logical Plan ==\n",
            "'Join UsingJoin(LeftOuter,Buffer(movieId))\n",
            ":- LogicalRDD [movieId#1782L, title#1783, genres#1784], false\n",
            "+- LogicalRDD [userId#1801L, movieId#1802L, rating#1803, timestamp#1804L], false\n",
            "\n",
            "== Analyzed Logical Plan ==\n",
            "movieId: bigint, title: string, genres: string, userId: bigint, rating: double, timestamp: bigint\n",
            "Project [movieId#1782L, title#1783, genres#1784, userId#1801L, rating#1803, timestamp#1804L]\n",
            "+- Join LeftOuter, (movieId#1782L = movieId#1802L)\n",
            "   :- LogicalRDD [movieId#1782L, title#1783, genres#1784], false\n",
            "   +- LogicalRDD [userId#1801L, movieId#1802L, rating#1803, timestamp#1804L], false\n",
            "\n",
            "== Optimized Logical Plan ==\n",
            "Project [movieId#1782L, title#1783, genres#1784, userId#1801L, rating#1803, timestamp#1804L]\n",
            "+- Join LeftOuter, (movieId#1782L = movieId#1802L)\n",
            "   :- LogicalRDD [movieId#1782L, title#1783, genres#1784], false\n",
            "   +- Filter isnotnull(movieId#1802L)\n",
            "      +- LogicalRDD [userId#1801L, movieId#1802L, rating#1803, timestamp#1804L], false\n",
            "\n",
            "== Physical Plan ==\n",
            "*(5) Project [movieId#1782L, title#1783, genres#1784, userId#1801L, rating#1803, timestamp#1804L]\n",
            "+- SortMergeJoin [movieId#1782L], [movieId#1802L], LeftOuter\n",
            "   :- *(2) Sort [movieId#1782L ASC NULLS FIRST], false, 0\n",
            "   :  +- Exchange hashpartitioning(movieId#1782L, 200), true, [id=#809]\n",
            "   :     +- *(1) Scan ExistingRDD[movieId#1782L,title#1783,genres#1784]\n",
            "   +- *(4) Sort [movieId#1802L ASC NULLS FIRST], false, 0\n",
            "      +- Exchange hashpartitioning(movieId#1802L, 200), true, [id=#814]\n",
            "         +- *(3) Filter isnotnull(movieId#1802L)\n",
            "            +- *(3) Scan ExistingRDD[userId#1801L,movieId#1802L,rating#1803,timestamp#1804L]\n",
            "\n"
          ]
        }
      ]
    }
  ]
}